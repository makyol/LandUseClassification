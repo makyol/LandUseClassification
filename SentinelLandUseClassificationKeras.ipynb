{
  "nbformat": 4,
  "nbformat_minor": 0,
  "metadata": {
    "colab": {
      "name": "VGG.ipynb",
      "version": "0.3.2",
      "provenance": [],
      "collapsed_sections": []
    },
    "kernelspec": {
      "name": "python3",
      "display_name": "Python 3"
    },
    "accelerator": "GPU"
  },
  "cells": [
    {
      "metadata": {
        "id": "_6aL-KEHQcd1",
        "colab_type": "code",
        "outputId": "e6311c3d-1ecc-49ee-bdb9-b5c29b3c088a",
        "colab": {
          "base_uri": "https://localhost:8080/",
          "height": 122
        }
      },
      "cell_type": "code",
      "source": [
        "# Load the Drive helper and mount\n",
        "from google.colab import drive\n",
        "drive.mount('/content/drive')"
      ],
      "execution_count": 0,
      "outputs": [
        {
          "output_type": "stream",
          "text": [
            "Go to this URL in a browser: https://accounts.google.com/o/oauth2/auth?client_id=947318989803-6bn6qk8qdgf4n4g3pfee6491hc0brc4i.apps.googleusercontent.com&redirect_uri=urn%3Aietf%3Awg%3Aoauth%3A2.0%3Aoob&scope=email%20https%3A%2F%2Fwww.googleapis.com%2Fauth%2Fdocs.test%20https%3A%2F%2Fwww.googleapis.com%2Fauth%2Fdrive%20https%3A%2F%2Fwww.googleapis.com%2Fauth%2Fdrive.photos.readonly%20https%3A%2F%2Fwww.googleapis.com%2Fauth%2Fpeopleapi.readonly&response_type=code\n",
            "\n",
            "Enter your authorization code:\n",
            "··········\n",
            "Mounted at /content/drive\n"
          ],
          "name": "stdout"
        }
      ]
    },
    {
      "metadata": {
        "id": "tS794aSHBTAQ",
        "colab_type": "code",
        "outputId": "086c59ef-14dd-4df0-96ab-80485cc72c4d",
        "colab": {
          "base_uri": "https://localhost:8080/",
          "height": 51
        }
      },
      "cell_type": "code",
      "source": [
        "!ls 'drive/My Drive/PhD/Data/Sat/train'"
      ],
      "execution_count": 0,
      "outputs": [
        {
          "output_type": "stream",
          "text": [
            "AnnualCrop  HerbaceousVegetation  Industrial  PermanentCrop  River\n",
            "Forest\t    Highway\t\t  Pasture     Residential    SeaLake\n"
          ],
          "name": "stdout"
        }
      ]
    },
    {
      "metadata": {
        "id": "FNgItgoWQt1h",
        "colab_type": "code",
        "outputId": "f6723f06-ad56-44cf-81c0-f48d01f18c33",
        "colab": {
          "base_uri": "https://localhost:8080/",
          "height": 34
        }
      },
      "cell_type": "code",
      "source": [
        "import numpy as np\n",
        "import keras\n",
        "from keras import backend as K\n",
        "from keras.models import Sequential\n",
        "from keras.layers import Activation\n",
        "from keras.layers import Dense, Flatten\n",
        "from keras.optimizers import Adam\n",
        "from keras.metrics import categorical_crossentropy\n",
        "from keras.preprocessing.image import ImageDataGenerator\n",
        "from keras.layers.normalization import BatchNormalization\n",
        "from keras.layers.convolutional import *\n",
        "from matplotlib import pyplot as plt\n",
        "from sklearn.metrics import confusion_matrix, precision_score, accuracy_score\n",
        "from sklearn.preprocessing import LabelEncoder\n",
        "import itertools\n",
        "import matplotlib.pyplot as plt\n",
        "import PIL\n",
        "from PIL import Image\n",
        "from skimage import transform\n",
        "%matplotlib inline\n",
        "import math"
      ],
      "execution_count": 0,
      "outputs": [
        {
          "output_type": "stream",
          "text": [
            "Using TensorFlow backend.\n"
          ],
          "name": "stderr"
        }
      ]
    },
    {
      "metadata": {
        "id": "Yz5m9BkOEP6Z",
        "colab_type": "code",
        "colab": {}
      },
      "cell_type": "code",
      "source": [
        "from keras.applications.vgg16 import preprocess_input"
      ],
      "execution_count": 0,
      "outputs": []
    },
    {
      "metadata": {
        "id": "s--tPiwdQwtj",
        "colab_type": "code",
        "outputId": "3a1e21aa-b5a0-4477-fe66-03cfdf5d011b",
        "colab": {
          "base_uri": "https://localhost:8080/",
          "height": 122
        }
      },
      "cell_type": "code",
      "source": [
        "vgg16_model = keras.applications.vgg16.VGG16()"
      ],
      "execution_count": 0,
      "outputs": [
        {
          "output_type": "stream",
          "text": [
            "WARNING:tensorflow:From /usr/local/lib/python3.6/dist-packages/tensorflow/python/framework/op_def_library.py:263: colocate_with (from tensorflow.python.framework.ops) is deprecated and will be removed in a future version.\n",
            "Instructions for updating:\n",
            "Colocations handled automatically by placer.\n",
            "Downloading data from https://github.com/fchollet/deep-learning-models/releases/download/v0.1/vgg16_weights_tf_dim_ordering_tf_kernels.h5\n",
            "553467904/553467096 [==============================] - 37s 0us/step\n"
          ],
          "name": "stdout"
        }
      ]
    },
    {
      "metadata": {
        "id": "d7Jy_5EkQ6Jw",
        "colab_type": "code",
        "outputId": "dccd2009-929e-48cc-a6ee-a68a490e0c09",
        "colab": {
          "base_uri": "https://localhost:8080/",
          "height": 918
        }
      },
      "cell_type": "code",
      "source": [
        "vgg16_model.summary()"
      ],
      "execution_count": 0,
      "outputs": [
        {
          "output_type": "stream",
          "text": [
            "_________________________________________________________________\n",
            "Layer (type)                 Output Shape              Param #   \n",
            "=================================================================\n",
            "input_1 (InputLayer)         (None, 224, 224, 3)       0         \n",
            "_________________________________________________________________\n",
            "block1_conv1 (Conv2D)        (None, 224, 224, 64)      1792      \n",
            "_________________________________________________________________\n",
            "block1_conv2 (Conv2D)        (None, 224, 224, 64)      36928     \n",
            "_________________________________________________________________\n",
            "block1_pool (MaxPooling2D)   (None, 112, 112, 64)      0         \n",
            "_________________________________________________________________\n",
            "block2_conv1 (Conv2D)        (None, 112, 112, 128)     73856     \n",
            "_________________________________________________________________\n",
            "block2_conv2 (Conv2D)        (None, 112, 112, 128)     147584    \n",
            "_________________________________________________________________\n",
            "block2_pool (MaxPooling2D)   (None, 56, 56, 128)       0         \n",
            "_________________________________________________________________\n",
            "block3_conv1 (Conv2D)        (None, 56, 56, 256)       295168    \n",
            "_________________________________________________________________\n",
            "block3_conv2 (Conv2D)        (None, 56, 56, 256)       590080    \n",
            "_________________________________________________________________\n",
            "block3_conv3 (Conv2D)        (None, 56, 56, 256)       590080    \n",
            "_________________________________________________________________\n",
            "block3_pool (MaxPooling2D)   (None, 28, 28, 256)       0         \n",
            "_________________________________________________________________\n",
            "block4_conv1 (Conv2D)        (None, 28, 28, 512)       1180160   \n",
            "_________________________________________________________________\n",
            "block4_conv2 (Conv2D)        (None, 28, 28, 512)       2359808   \n",
            "_________________________________________________________________\n",
            "block4_conv3 (Conv2D)        (None, 28, 28, 512)       2359808   \n",
            "_________________________________________________________________\n",
            "block4_pool (MaxPooling2D)   (None, 14, 14, 512)       0         \n",
            "_________________________________________________________________\n",
            "block5_conv1 (Conv2D)        (None, 14, 14, 512)       2359808   \n",
            "_________________________________________________________________\n",
            "block5_conv2 (Conv2D)        (None, 14, 14, 512)       2359808   \n",
            "_________________________________________________________________\n",
            "block5_conv3 (Conv2D)        (None, 14, 14, 512)       2359808   \n",
            "_________________________________________________________________\n",
            "block5_pool (MaxPooling2D)   (None, 7, 7, 512)         0         \n",
            "_________________________________________________________________\n",
            "flatten (Flatten)            (None, 25088)             0         \n",
            "_________________________________________________________________\n",
            "fc1 (Dense)                  (None, 4096)              102764544 \n",
            "_________________________________________________________________\n",
            "fc2 (Dense)                  (None, 4096)              16781312  \n",
            "_________________________________________________________________\n",
            "predictions (Dense)          (None, 1000)              4097000   \n",
            "=================================================================\n",
            "Total params: 138,357,544\n",
            "Trainable params: 138,357,544\n",
            "Non-trainable params: 0\n",
            "_________________________________________________________________\n"
          ],
          "name": "stdout"
        }
      ]
    },
    {
      "metadata": {
        "id": "Cj57cVf_RB_W",
        "colab_type": "code",
        "outputId": "a996a12b-fe74-48fe-8bf1-eed5c6aa2cac",
        "colab": {
          "base_uri": "https://localhost:8080/",
          "height": 34
        }
      },
      "cell_type": "code",
      "source": [
        "type(vgg16_model)"
      ],
      "execution_count": 0,
      "outputs": [
        {
          "output_type": "execute_result",
          "data": {
            "text/plain": [
              "keras.engine.training.Model"
            ]
          },
          "metadata": {
            "tags": []
          },
          "execution_count": 7
        }
      ]
    },
    {
      "metadata": {
        "id": "HWdJGzA-SOTj",
        "colab_type": "code",
        "outputId": "622a5b93-0ef9-49be-ab2e-213b84a013e9",
        "colab": {
          "base_uri": "https://localhost:8080/",
          "height": 918
        }
      },
      "cell_type": "code",
      "source": [
        "vgg16_model.summary()"
      ],
      "execution_count": 0,
      "outputs": [
        {
          "output_type": "stream",
          "text": [
            "_________________________________________________________________\n",
            "Layer (type)                 Output Shape              Param #   \n",
            "=================================================================\n",
            "input_1 (InputLayer)         (None, 224, 224, 3)       0         \n",
            "_________________________________________________________________\n",
            "block1_conv1 (Conv2D)        (None, 224, 224, 64)      1792      \n",
            "_________________________________________________________________\n",
            "block1_conv2 (Conv2D)        (None, 224, 224, 64)      36928     \n",
            "_________________________________________________________________\n",
            "block1_pool (MaxPooling2D)   (None, 112, 112, 64)      0         \n",
            "_________________________________________________________________\n",
            "block2_conv1 (Conv2D)        (None, 112, 112, 128)     73856     \n",
            "_________________________________________________________________\n",
            "block2_conv2 (Conv2D)        (None, 112, 112, 128)     147584    \n",
            "_________________________________________________________________\n",
            "block2_pool (MaxPooling2D)   (None, 56, 56, 128)       0         \n",
            "_________________________________________________________________\n",
            "block3_conv1 (Conv2D)        (None, 56, 56, 256)       295168    \n",
            "_________________________________________________________________\n",
            "block3_conv2 (Conv2D)        (None, 56, 56, 256)       590080    \n",
            "_________________________________________________________________\n",
            "block3_conv3 (Conv2D)        (None, 56, 56, 256)       590080    \n",
            "_________________________________________________________________\n",
            "block3_pool (MaxPooling2D)   (None, 28, 28, 256)       0         \n",
            "_________________________________________________________________\n",
            "block4_conv1 (Conv2D)        (None, 28, 28, 512)       1180160   \n",
            "_________________________________________________________________\n",
            "block4_conv2 (Conv2D)        (None, 28, 28, 512)       2359808   \n",
            "_________________________________________________________________\n",
            "block4_conv3 (Conv2D)        (None, 28, 28, 512)       2359808   \n",
            "_________________________________________________________________\n",
            "block4_pool (MaxPooling2D)   (None, 14, 14, 512)       0         \n",
            "_________________________________________________________________\n",
            "block5_conv1 (Conv2D)        (None, 14, 14, 512)       2359808   \n",
            "_________________________________________________________________\n",
            "block5_conv2 (Conv2D)        (None, 14, 14, 512)       2359808   \n",
            "_________________________________________________________________\n",
            "block5_conv3 (Conv2D)        (None, 14, 14, 512)       2359808   \n",
            "_________________________________________________________________\n",
            "block5_pool (MaxPooling2D)   (None, 7, 7, 512)         0         \n",
            "_________________________________________________________________\n",
            "flatten (Flatten)            (None, 25088)             0         \n",
            "_________________________________________________________________\n",
            "fc1 (Dense)                  (None, 4096)              102764544 \n",
            "_________________________________________________________________\n",
            "fc2 (Dense)                  (None, 4096)              16781312  \n",
            "_________________________________________________________________\n",
            "predictions (Dense)          (None, 1000)              4097000   \n",
            "=================================================================\n",
            "Total params: 138,357,544\n",
            "Trainable params: 138,357,544\n",
            "Non-trainable params: 0\n",
            "_________________________________________________________________\n"
          ],
          "name": "stdout"
        }
      ]
    },
    {
      "metadata": {
        "id": "gQEHlgMpSJwQ",
        "colab_type": "code",
        "outputId": "788c881d-d35a-4676-f302-8851df4a5155",
        "colab": {
          "base_uri": "https://localhost:8080/",
          "height": 34
        }
      },
      "cell_type": "code",
      "source": [
        "vgg16_model.layers.pop()"
      ],
      "execution_count": 0,
      "outputs": [
        {
          "output_type": "execute_result",
          "data": {
            "text/plain": [
              "<keras.layers.core.Dense at 0x7ffaa6d3c128>"
            ]
          },
          "metadata": {
            "tags": []
          },
          "execution_count": 9
        }
      ]
    },
    {
      "metadata": {
        "id": "fCJU7LuiREvM",
        "colab_type": "code",
        "colab": {}
      },
      "cell_type": "code",
      "source": [
        "model = Sequential()\n",
        "for layer in vgg16_model.layers:\n",
        "  layer.trainable = False\n",
        "  model.add(layer)"
      ],
      "execution_count": 0,
      "outputs": []
    },
    {
      "metadata": {
        "id": "ZIHhD1BeRUmW",
        "colab_type": "code",
        "outputId": "4d8db892-1b9e-47b6-c5ad-47d2bf4744f7",
        "colab": {
          "base_uri": "https://localhost:8080/",
          "height": 34
        }
      },
      "cell_type": "code",
      "source": [
        "type(model)"
      ],
      "execution_count": 0,
      "outputs": [
        {
          "output_type": "execute_result",
          "data": {
            "text/plain": [
              "keras.engine.sequential.Sequential"
            ]
          },
          "metadata": {
            "tags": []
          },
          "execution_count": 11
        }
      ]
    },
    {
      "metadata": {
        "id": "a_u5A6HRRVtH",
        "colab_type": "code",
        "outputId": "64c4b87a-3f4a-461f-d73c-75999b22092c",
        "colab": {
          "base_uri": "https://localhost:8080/",
          "height": 850
        }
      },
      "cell_type": "code",
      "source": [
        "model.summary()"
      ],
      "execution_count": 0,
      "outputs": [
        {
          "output_type": "stream",
          "text": [
            "_________________________________________________________________\n",
            "Layer (type)                 Output Shape              Param #   \n",
            "=================================================================\n",
            "block1_conv1 (Conv2D)        (None, 224, 224, 64)      1792      \n",
            "_________________________________________________________________\n",
            "block1_conv2 (Conv2D)        (None, 224, 224, 64)      36928     \n",
            "_________________________________________________________________\n",
            "block1_pool (MaxPooling2D)   (None, 112, 112, 64)      0         \n",
            "_________________________________________________________________\n",
            "block2_conv1 (Conv2D)        (None, 112, 112, 128)     73856     \n",
            "_________________________________________________________________\n",
            "block2_conv2 (Conv2D)        (None, 112, 112, 128)     147584    \n",
            "_________________________________________________________________\n",
            "block2_pool (MaxPooling2D)   (None, 56, 56, 128)       0         \n",
            "_________________________________________________________________\n",
            "block3_conv1 (Conv2D)        (None, 56, 56, 256)       295168    \n",
            "_________________________________________________________________\n",
            "block3_conv2 (Conv2D)        (None, 56, 56, 256)       590080    \n",
            "_________________________________________________________________\n",
            "block3_conv3 (Conv2D)        (None, 56, 56, 256)       590080    \n",
            "_________________________________________________________________\n",
            "block3_pool (MaxPooling2D)   (None, 28, 28, 256)       0         \n",
            "_________________________________________________________________\n",
            "block4_conv1 (Conv2D)        (None, 28, 28, 512)       1180160   \n",
            "_________________________________________________________________\n",
            "block4_conv2 (Conv2D)        (None, 28, 28, 512)       2359808   \n",
            "_________________________________________________________________\n",
            "block4_conv3 (Conv2D)        (None, 28, 28, 512)       2359808   \n",
            "_________________________________________________________________\n",
            "block4_pool (MaxPooling2D)   (None, 14, 14, 512)       0         \n",
            "_________________________________________________________________\n",
            "block5_conv1 (Conv2D)        (None, 14, 14, 512)       2359808   \n",
            "_________________________________________________________________\n",
            "block5_conv2 (Conv2D)        (None, 14, 14, 512)       2359808   \n",
            "_________________________________________________________________\n",
            "block5_conv3 (Conv2D)        (None, 14, 14, 512)       2359808   \n",
            "_________________________________________________________________\n",
            "block5_pool (MaxPooling2D)   (None, 7, 7, 512)         0         \n",
            "_________________________________________________________________\n",
            "flatten (Flatten)            (None, 25088)             0         \n",
            "_________________________________________________________________\n",
            "fc1 (Dense)                  (None, 4096)              102764544 \n",
            "_________________________________________________________________\n",
            "fc2 (Dense)                  (None, 4096)              16781312  \n",
            "=================================================================\n",
            "Total params: 134,260,544\n",
            "Trainable params: 0\n",
            "Non-trainable params: 134,260,544\n",
            "_________________________________________________________________\n"
          ],
          "name": "stdout"
        }
      ]
    },
    {
      "metadata": {
        "id": "qRd4vVBvRb9R",
        "colab_type": "code",
        "colab": {}
      },
      "cell_type": "code",
      "source": [
        "model.add(Dense(10, activation=\"softmax\"))"
      ],
      "execution_count": 0,
      "outputs": []
    },
    {
      "metadata": {
        "id": "rRZLe6doRwcD",
        "colab_type": "code",
        "outputId": "b2d72f64-61ed-4926-e18f-e9deaa0d1869",
        "colab": {
          "base_uri": "https://localhost:8080/",
          "height": 884
        }
      },
      "cell_type": "code",
      "source": [
        "model.summary()"
      ],
      "execution_count": 0,
      "outputs": [
        {
          "output_type": "stream",
          "text": [
            "_________________________________________________________________\n",
            "Layer (type)                 Output Shape              Param #   \n",
            "=================================================================\n",
            "block1_conv1 (Conv2D)        (None, 224, 224, 64)      1792      \n",
            "_________________________________________________________________\n",
            "block1_conv2 (Conv2D)        (None, 224, 224, 64)      36928     \n",
            "_________________________________________________________________\n",
            "block1_pool (MaxPooling2D)   (None, 112, 112, 64)      0         \n",
            "_________________________________________________________________\n",
            "block2_conv1 (Conv2D)        (None, 112, 112, 128)     73856     \n",
            "_________________________________________________________________\n",
            "block2_conv2 (Conv2D)        (None, 112, 112, 128)     147584    \n",
            "_________________________________________________________________\n",
            "block2_pool (MaxPooling2D)   (None, 56, 56, 128)       0         \n",
            "_________________________________________________________________\n",
            "block3_conv1 (Conv2D)        (None, 56, 56, 256)       295168    \n",
            "_________________________________________________________________\n",
            "block3_conv2 (Conv2D)        (None, 56, 56, 256)       590080    \n",
            "_________________________________________________________________\n",
            "block3_conv3 (Conv2D)        (None, 56, 56, 256)       590080    \n",
            "_________________________________________________________________\n",
            "block3_pool (MaxPooling2D)   (None, 28, 28, 256)       0         \n",
            "_________________________________________________________________\n",
            "block4_conv1 (Conv2D)        (None, 28, 28, 512)       1180160   \n",
            "_________________________________________________________________\n",
            "block4_conv2 (Conv2D)        (None, 28, 28, 512)       2359808   \n",
            "_________________________________________________________________\n",
            "block4_conv3 (Conv2D)        (None, 28, 28, 512)       2359808   \n",
            "_________________________________________________________________\n",
            "block4_pool (MaxPooling2D)   (None, 14, 14, 512)       0         \n",
            "_________________________________________________________________\n",
            "block5_conv1 (Conv2D)        (None, 14, 14, 512)       2359808   \n",
            "_________________________________________________________________\n",
            "block5_conv2 (Conv2D)        (None, 14, 14, 512)       2359808   \n",
            "_________________________________________________________________\n",
            "block5_conv3 (Conv2D)        (None, 14, 14, 512)       2359808   \n",
            "_________________________________________________________________\n",
            "block5_pool (MaxPooling2D)   (None, 7, 7, 512)         0         \n",
            "_________________________________________________________________\n",
            "flatten (Flatten)            (None, 25088)             0         \n",
            "_________________________________________________________________\n",
            "fc1 (Dense)                  (None, 4096)              102764544 \n",
            "_________________________________________________________________\n",
            "fc2 (Dense)                  (None, 4096)              16781312  \n",
            "_________________________________________________________________\n",
            "dense_1 (Dense)              (None, 10)                40970     \n",
            "=================================================================\n",
            "Total params: 134,301,514\n",
            "Trainable params: 40,970\n",
            "Non-trainable params: 134,260,544\n",
            "_________________________________________________________________\n"
          ],
          "name": "stdout"
        }
      ]
    },
    {
      "metadata": {
        "id": "sCnrlf3lCOCk",
        "colab_type": "code",
        "colab": {}
      },
      "cell_type": "code",
      "source": [
        "model.compile(optimizer='rmsprop',\n",
        "              loss='categorical_crossentropy',\n",
        "              metrics=['accuracy'])"
      ],
      "execution_count": 0,
      "outputs": []
    },
    {
      "metadata": {
        "id": "X5-_7IW2Re8w",
        "colab_type": "code",
        "colab": {}
      },
      "cell_type": "code",
      "source": [
        "train_data_dir = 'drive/My Drive/PhD/Data/Sat/train'\n",
        "valid_data_dir = 'drive/My Drive/PhD/Data/Sat/valid'\n",
        "test_data_dir = 'drive/My Drive/PhD/Data/Sat/test'"
      ],
      "execution_count": 0,
      "outputs": []
    },
    {
      "metadata": {
        "id": "xFUc7J8nRg8c",
        "colab_type": "code",
        "outputId": "08d71f19-abc4-4b9b-8607-1a1724df6b2b",
        "colab": {
          "base_uri": "https://localhost:8080/",
          "height": 68
        }
      },
      "cell_type": "code",
      "source": [
        "img_width = 224\n",
        "img_height = 224\n",
        "batch_size = 25\n",
        "# dategen = keras.preprocessing.image.ImageDataGenerator(preprocessing_function=preprocess_input)\n",
        "\n",
        "train_generator = ImageDataGenerator().flow_from_directory(\n",
        "    'drive/My Drive/PhD/Data/Sat/train',\n",
        "    target_size=(img_width, img_height),\n",
        "    classes=\n",
        "    [\n",
        "        'Highway',\n",
        "        'AnnualCrop',\n",
        "        'HerbaceousVegetation',\n",
        "        'Industrial',\n",
        "        'Residential',\n",
        "        'PermanentCrop',\n",
        "        'River',\n",
        "        'Pasture',\n",
        "        'Forest',\n",
        "        'SeaLake'\n",
        "    ],\n",
        "    batch_size=batch_size)\n",
        "\n",
        "valid_generator = ImageDataGenerator().flow_from_directory(\n",
        "    'drive/My Drive/PhD/Data/Sat/valid',\n",
        "    target_size=(img_width, img_height),\n",
        "    classes=\n",
        "    [\n",
        "        'Highway',\n",
        "        'AnnualCrop',\n",
        "        'HerbaceousVegetation',\n",
        "        'Industrial',\n",
        "        'Residential',\n",
        "        'PermanentCrop',\n",
        "        'River',\n",
        "        'Pasture',\n",
        "        'Forest',\n",
        "        'SeaLake'\n",
        "    ],\n",
        "    batch_size=batch_size)\n",
        "test_generator = ImageDataGenerator().flow_from_directory(\n",
        "    'drive/My Drive/PhD/Data/Sat/test',\n",
        "    target_size=(img_width, img_height),\n",
        "    classes=\n",
        "    [\n",
        "        'Highway',\n",
        "        'AnnualCrop',\n",
        "        'HerbaceousVegetation',\n",
        "        'Industrial',\n",
        "        'Residential',\n",
        "        'PermanentCrop',\n",
        "        'River',\n",
        "        'Pasture',\n",
        "        'Forest',\n",
        "        'SeaLake'\n",
        "    ],\n",
        "    batch_size=batch_size,\n",
        "    shuffle=False,)"
      ],
      "execution_count": 0,
      "outputs": [
        {
          "output_type": "stream",
          "text": [
            "Found 18900 images belonging to 10 classes.\n",
            "Found 4050 images belonging to 10 classes.\n",
            "Found 4050 images belonging to 10 classes.\n"
          ],
          "name": "stdout"
        }
      ]
    },
    {
      "metadata": {
        "id": "chBWDJNz_tVp",
        "colab_type": "code",
        "colab": {}
      },
      "cell_type": "code",
      "source": [
        "# https://github.com/smileservices/keras_utils/blob/master/utils.py\n",
        "# plots images with labels within jupyter notebook\n",
        "def plots(ims, figsize=(12,6), rows=10, interp=False, titles=None):\n",
        "    if type(ims[0]) is np.ndarray:\n",
        "        ims = np.array(ims).astype(np.uint8)\n",
        "        if (ims.shape[-1] != 3):\n",
        "            ims = ims.transpose((0,2,3,1))\n",
        "    f = plt.figure(figsize=figsize)\n",
        "    cols = len(ims)//rows if len(ims) % 2 == 0 else len(ims)//rows + 1\n",
        "    for i in range(len(ims)):\n",
        "        sp = f.add_subplot(rows, cols, i+1)\n",
        "        sp.axis('Off')\n",
        "        if titles is not None:\n",
        "            sp.set_title(titles[i], fontsize=16)\n",
        "        plt.imshow(ims[i], interpolation=None if interp else 'none')"
      ],
      "execution_count": 0,
      "outputs": []
    },
    {
      "metadata": {
        "id": "c8wa-c_JG51X",
        "colab_type": "code",
        "outputId": "e11fe07f-686b-48c8-8653-6cf81ad1bde9",
        "colab": {
          "base_uri": "https://localhost:8080/",
          "height": 430
        }
      },
      "cell_type": "code",
      "source": [
        "imgs, labels = next(test_generator)\n",
        "plots(imgs, titles = labels)\n",
        "np.argmax(labels[0])"
      ],
      "execution_count": 0,
      "outputs": [
        {
          "output_type": "stream",
          "text": [
            "/usr/local/lib/python3.6/dist-packages/matplotlib/text.py:1191: FutureWarning: elementwise comparison failed; returning scalar instead, but in the future will perform elementwise comparison\n",
            "  if s != self._text:\n"
          ],
          "name": "stderr"
        },
        {
          "output_type": "execute_result",
          "data": {
            "text/plain": [
              "0"
            ]
          },
          "metadata": {
            "tags": []
          },
          "execution_count": 37
        },
        {
          "output_type": "display_data",
          "data": {
            "image/png": "[encoded data removed]",
            "text/plain": [
              "<Figure size 864x432 with 25 Axes>"
            ]
          },
          "metadata": {
            "tags": []
          }
        }
      ]
    },
    {
      "metadata": {
        "id": "d8-Sb2V-_MAA",
        "colab_type": "code",
        "outputId": "3452d351-fc37-4d25-aa95-1e5fba95c73a",
        "colab": {
          "base_uri": "https://localhost:8080/",
          "height": 394
        }
      },
      "cell_type": "code",
      "source": [
        "model.fit_generator(\n",
        "    train_generator,\n",
        "    steps_per_epoch=train_generator.samples // batch_size,\n",
        "    epochs=10,\n",
        "    validation_data=valid_generator,\n",
        "    validation_steps=valid_generator.samples // batch_size)"
      ],
      "execution_count": 0,
      "outputs": [
        {
          "output_type": "stream",
          "text": [
            "Epoch 1/10\n",
            "756/756 [==============================] - 247s 327ms/step - loss: 0.4686 - acc: 0.8598 - val_loss: 0.4077 - val_acc: 0.8889\n",
            "Epoch 2/10\n",
            "756/756 [==============================] - 247s 326ms/step - loss: 0.3195 - acc: 0.9067 - val_loss: 0.4679 - val_acc: 0.8758\n",
            "Epoch 3/10\n",
            "756/756 [==============================] - 247s 326ms/step - loss: 0.2628 - acc: 0.9254 - val_loss: 0.3061 - val_acc: 0.9183\n",
            "Epoch 4/10\n",
            "756/756 [==============================] - 247s 326ms/step - loss: 0.2431 - acc: 0.9301 - val_loss: 0.2560 - val_acc: 0.9341\n",
            "Epoch 5/10\n",
            "756/756 [==============================] - 246s 326ms/step - loss: 0.2185 - acc: 0.9387 - val_loss: 0.2901 - val_acc: 0.9262\n",
            "Epoch 6/10\n",
            "756/756 [==============================] - 246s 326ms/step - loss: 0.1945 - acc: 0.9420 - val_loss: 0.2791 - val_acc: 0.9304\n",
            "Epoch 7/10\n",
            "756/756 [==============================] - 247s 326ms/step - loss: 0.1784 - acc: 0.9476 - val_loss: 0.3321 - val_acc: 0.9188\n",
            "Epoch 8/10\n",
            "756/756 [==============================] - 247s 326ms/step - loss: 0.1639 - acc: 0.9531 - val_loss: 0.2906 - val_acc: 0.9358\n",
            "Epoch 9/10\n",
            "756/756 [==============================] - 248s 327ms/step - loss: 0.1519 - acc: 0.9570 - val_loss: 0.3539 - val_acc: 0.9198\n",
            "Epoch 10/10\n",
            "756/756 [==============================] - 248s 327ms/step - loss: 0.1472 - acc: 0.9569 - val_loss: 0.2896 - val_acc: 0.9333\n"
          ],
          "name": "stdout"
        },
        {
          "output_type": "execute_result",
          "data": {
            "text/plain": [
              "<keras.callbacks.History at 0x7ff0ac3107f0>"
            ]
          },
          "metadata": {
            "tags": []
          },
          "execution_count": 41
        }
      ]
    },
    {
      "metadata": {
        "id": "drw_1UahB5eT",
        "colab_type": "code",
        "colab": {}
      },
      "cell_type": "code",
      "source": [
        "path = \"/content/drive/My Drive/PhD/Data/landuse_model_18_02_2019.h5\" \n",
        "model.save(path)"
      ],
      "execution_count": 0,
      "outputs": []
    },
    {
      "metadata": {
        "id": "luiY4nlgImUn",
        "colab_type": "code",
        "colab": {}
      },
      "cell_type": "code",
      "source": [
        "#del model\n",
        "#model = keras.models.load_model('/content/drive/My Drive/PhD/Data/vgg16_trained.h5')\n",
        "#model = keras.models.load_model('/content/drive/My Drive/PhD/Data/vgg16_multiclass_trained.h5')"
      ],
      "execution_count": 0,
      "outputs": []
    },
    {
      "metadata": {
        "id": "z-CN2n6cBAt2",
        "colab_type": "code",
        "colab": {}
      },
      "cell_type": "code",
      "source": [
        "# first you should re-define the network.\n",
        "#model.load_weights('/content/drive/My Drive/PhD/Data/vgg16_multiclass_trained.h5')\n",
        "model.load_weights('/content/drive/My Drive/PhD/Data/landuse_model_18_02_2019.h5')"
      ],
      "execution_count": 0,
      "outputs": []
    },
    {
      "metadata": {
        "id": "YKDFn_MXEIFF",
        "colab_type": "code",
        "colab": {}
      },
      "cell_type": "code",
      "source": [
        "predictions = model.predict_generator(test_generator, steps=test_generator.samples // batch_size)"
      ],
      "execution_count": 0,
      "outputs": []
    },
    {
      "metadata": {
        "id": "q6iDljOSzdsN",
        "colab_type": "code",
        "colab": {}
      },
      "cell_type": "code",
      "source": [
        "# serialize predictions\n",
        "import pickle\n",
        "file_pi = open('/content/drive/My Drive/PhD/Data/predictions_18_02_2019.obj', 'wb') \n",
        "pickle.dump(predictions, file_pi)"
      ],
      "execution_count": 0,
      "outputs": []
    },
    {
      "metadata": {
        "id": "YLb2ZuVOEmJ5",
        "colab_type": "code",
        "colab": {}
      },
      "cell_type": "code",
      "source": [
        "# load serialized predictions\n",
        "import pickle \n",
        "filehandler = open('/content/drive/My Drive/PhD/Data/predictions_18_02_2019.obj', 'r') \n",
        "predictions = pickle.load(filehandler)"
      ],
      "execution_count": 0,
      "outputs": []
    },
    {
      "metadata": {
        "id": "MN2zntNnWyIf",
        "colab_type": "code",
        "colab": {}
      },
      "cell_type": "code",
      "source": [
        "def plot_confusion_matrix(cm, classes,\n",
        "                          normalize=False,\n",
        "                          title='Confusion matrix',\n",
        "                          cmap=plt.cm.Blues):\n",
        "    \"\"\"\n",
        "    This function prints and plots the confusion matrix.\n",
        "    Normalization can be applied by setting `normalize=True`.\n",
        "    \"\"\"\n",
        "    if normalize:\n",
        "        cm = cm.astype('float') / cm.sum(axis=1)[:, np.newaxis]\n",
        "        print(\"Normalized confusion matrix\")\n",
        "    else:\n",
        "        print('Confusion matrix, without normalization')\n",
        "\n",
        "    print(cm)\n",
        "\n",
        "    plt.imshow(cm, interpolation='nearest', cmap=cmap)\n",
        "    plt.title(title)\n",
        "    plt.colorbar()\n",
        "    tick_marks = np.arange(len(classes))\n",
        "    plt.xticks(tick_marks, classes, rotation=45)\n",
        "    plt.yticks(tick_marks, classes)\n",
        "\n",
        "    fmt = '.2f' if normalize else 'd'\n",
        "    thresh = cm.max() / 2.\n",
        "    for i, j in itertools.product(range(cm.shape[0]), range(cm.shape[1])):\n",
        "        plt.text(j, i, format(cm[i, j], fmt),\n",
        "                 horizontalalignment=\"center\",\n",
        "                 color=\"white\" if cm[i, j] > thresh else \"black\")\n",
        "\n",
        "    plt.ylabel('True label')\n",
        "    plt.xlabel('Predicted label')\n",
        "    plt.tight_layout()"
      ],
      "execution_count": 0,
      "outputs": []
    },
    {
      "metadata": {
        "id": "LeXCaz45W0f8",
        "colab_type": "code",
        "outputId": "5670665a-8fb2-42b7-f7e1-6570dd47fa2b",
        "colab": {
          "base_uri": "https://localhost:8080/",
          "height": 198
        }
      },
      "cell_type": "code",
      "source": [
        "labels = test_generator.classes\n",
        "#cm = confusion_matrix(labels, np.round(predictions[:, 0]))\n",
        "cm = confusion_matrix(labels, np.argmax(predictions, axis=1))"
      ],
      "execution_count": 0,
      "outputs": [
        {
          "output_type": "error",
          "ename": "NameError",
          "evalue": "ignored",
          "traceback": [
            "\u001b[0;31m---------------------------------------------------------------------------\u001b[0m",
            "\u001b[0;31mNameError\u001b[0m                                 Traceback (most recent call last)",
            "\u001b[0;32m<ipython-input-25-58c0f1e0e9f5>\u001b[0m in \u001b[0;36m<module>\u001b[0;34m()\u001b[0m\n\u001b[1;32m      1\u001b[0m \u001b[0mlabels\u001b[0m \u001b[0;34m=\u001b[0m \u001b[0mtest_generator\u001b[0m\u001b[0;34m.\u001b[0m\u001b[0mclasses\u001b[0m\u001b[0;34m\u001b[0m\u001b[0;34m\u001b[0m\u001b[0m\n\u001b[1;32m      2\u001b[0m \u001b[0;31m#cm = confusion_matrix(labels, np.round(predictions[:, 0]))\u001b[0m\u001b[0;34m\u001b[0m\u001b[0;34m\u001b[0m\u001b[0;34m\u001b[0m\u001b[0m\n\u001b[0;32m----> 3\u001b[0;31m \u001b[0mcm\u001b[0m \u001b[0;34m=\u001b[0m \u001b[0mconfusion_matrix\u001b[0m\u001b[0;34m(\u001b[0m\u001b[0mlabels\u001b[0m\u001b[0;34m,\u001b[0m \u001b[0mnp\u001b[0m\u001b[0;34m.\u001b[0m\u001b[0margmax\u001b[0m\u001b[0;34m(\u001b[0m\u001b[0mpredictions\u001b[0m\u001b[0;34m,\u001b[0m \u001b[0maxis\u001b[0m\u001b[0;34m=\u001b[0m\u001b[0;36m1\u001b[0m\u001b[0;34m)\u001b[0m\u001b[0;34m)\u001b[0m\u001b[0;34m\u001b[0m\u001b[0;34m\u001b[0m\u001b[0m\n\u001b[0m",
            "\u001b[0;31mNameError\u001b[0m: name 'predictions' is not defined"
          ]
        }
      ]
    },
    {
      "metadata": {
        "id": "VOqL4W--XEXk",
        "colab_type": "code",
        "outputId": "61614cd0-5b5b-4b79-9af7-600733dd53e3",
        "colab": {
          "base_uri": "https://localhost:8080/",
          "height": 484
        }
      },
      "cell_type": "code",
      "source": [
        "cm_plot_labels = ['Highway',\n",
        "        'AnnualCrop',\n",
        "        'HerbaceousVegetation',\n",
        "        'Industrial',\n",
        "        'Residential',\n",
        "        'PermanentCrop',\n",
        "        'River',\n",
        "        'Pasture',\n",
        "        'Forest',\n",
        "        'SeaLake']\n",
        "plot_confusion_matrix(cm, cm_plot_labels, title=\"Confusion Matrix\")"
      ],
      "execution_count": 0,
      "outputs": [
        {
          "output_type": "stream",
          "text": [
            "Confusion matrix, without normalization\n",
            "[[314  11   1   6   1   8  32   2   0   0]\n",
            " [  5 424   0   0   0   6   8   3   0   4]\n",
            " [  1   1 408   1   2  30   3   4   0   0]\n",
            " [  1   0   1 356   6   8   3   0   0   0]\n",
            " [  0   0   1  11 429   8   0   1   0   0]\n",
            " [  2   6  11   0   2 353   1   0   0   0]\n",
            " [ 17   7   1   2   1   0 342   2   1   2]\n",
            " [  3   4   4   1   0   3   7 276   2   0]\n",
            " [  0   0   7   0   1   0   2   5 434   1]\n",
            " [  0   0   0   0   0   0   4   2   0 444]]\n"
          ],
          "name": "stdout"
        },
        {
          "output_type": "display_data",
          "data": {
            "image/png": "[encoded data removed]",
            "text/plain": [
              "<Figure size 432x288 with 2 Axes>"
            ]
          },
          "metadata": {
            "tags": []
          }
        }
      ]
    },
    {
      "metadata": {
        "id": "ufmAIL7mdgEv",
        "colab_type": "code",
        "outputId": "b3027c3a-3a5e-465d-fea6-be0e3a198eb9",
        "colab": {
          "base_uri": "https://localhost:8080/",
          "height": 34
        }
      },
      "cell_type": "code",
      "source": [
        "accuracy_score(labels, np.argmax(predictions, axis=1))"
      ],
      "execution_count": 0,
      "outputs": [
        {
          "output_type": "execute_result",
          "data": {
            "text/plain": [
              "0.9333333333333333"
            ]
          },
          "metadata": {
            "tags": []
          },
          "execution_count": 141
        }
      ]
    },
    {
      "metadata": {
        "id": "V42recx_05cn",
        "colab_type": "code",
        "colab": {}
      },
      "cell_type": "code",
      "source": [
        "#precision_score(labels[:,], np.argmax(predictions, axis=1))"
      ],
      "execution_count": 0,
      "outputs": []
    },
    {
      "metadata": {
        "id": "RchOUaGCgilP",
        "colab_type": "text"
      },
      "cell_type": "markdown",
      "source": [
        "# Test Single Images\n"
      ]
    },
    {
      "metadata": {
        "id": "vVtS555xFl2b",
        "colab_type": "code",
        "colab": {}
      },
      "cell_type": "code",
      "source": [
        "def load(filename):\n",
        "  np_image = Image.open(filename)\n",
        "  np_image = np.array(np_image).astype('float32')/255\n",
        "  np_image = transform.resize(np_image, (224, 224, 3))\n",
        "  np_image = np.expand_dims(np_image, axis=0)\n",
        "  return np_image"
      ],
      "execution_count": 0,
      "outputs": []
    },
    {
      "metadata": {
        "id": "WBw069I0Ht1y",
        "colab_type": "code",
        "colab": {}
      },
      "cell_type": "code",
      "source": [
        "pred = model.predict(load('fatih-1.png'))\n",
        "print(np.argmax(pred*100))\n",
        "res = np.argmax(pred, axis=1)\n",
        "print(pred*100)\n",
        "res[0]"
      ],
      "execution_count": 0,
      "outputs": []
    },
    {
      "metadata": {
        "id": "Pc7WaCCDjdhV",
        "colab_type": "code",
        "outputId": "c0d04a8b-17ed-46ec-a380-633e69a1ac3c",
        "colab": {
          "base_uri": "https://localhost:8080/",
          "height": 122
        }
      },
      "cell_type": "code",
      "source": [
        "model.predict_proba(load('HerbaceousVegetation_2612.jpg'))*100"
      ],
      "execution_count": 0,
      "outputs": [
        {
          "output_type": "stream",
          "text": [
            "/usr/local/lib/python3.6/dist-packages/skimage/transform/_warps.py:84: UserWarning: The default mode, 'constant', will be changed to 'reflect' in skimage 0.15.\n",
            "  warn(\"The default mode, 'constant', will be changed to 'reflect' in \"\n"
          ],
          "name": "stderr"
        },
        {
          "output_type": "execute_result",
          "data": {
            "text/plain": [
              "array([[3.8531492e-16, 6.7785423e-04, 9.8759976e-14, 2.2593164e-23,\n",
              "        1.1689909e-25, 3.7096390e-16, 1.2466019e-12, 6.0472352e-08,\n",
              "        6.6771398e-05, 9.9999252e+01]], dtype=float32)"
            ]
          },
          "metadata": {
            "tags": []
          },
          "execution_count": 79
        }
      ]
    },
    {
      "metadata": {
        "id": "veyumbeugaFp",
        "colab_type": "code",
        "colab": {}
      },
      "cell_type": "code",
      "source": [
        ""
      ],
      "execution_count": 0,
      "outputs": []
    },
    {
      "metadata": {
        "id": "9uGykybCgauj",
        "colab_type": "text"
      },
      "cell_type": "markdown",
      "source": [
        "# Fatih"
      ]
    },
    {
      "metadata": {
        "id": "seuVozXWlfeZ",
        "colab_type": "code",
        "outputId": "0b904783-288d-4ebb-e343-9dc1c41cefb1",
        "colab": {
          "base_uri": "https://localhost:8080/",
          "height": 34
        }
      },
      "cell_type": "code",
      "source": [
        "fatih_generator = ImageDataGenerator().flow_from_directory(\n",
        "    'drive/My Drive/PhD/Data/Sat/fatih',\n",
        "    target_size=(img_width, img_height),\n",
        "    classes=\n",
        "    [\n",
        "        'Highway',\n",
        "        'AnnualCrop',\n",
        "        'HerbaceousVegetation',\n",
        "        'Industrial',\n",
        "        'Residential',\n",
        "        'PermanentCrop',\n",
        "        'River',\n",
        "        'Pasture',\n",
        "        'Forest',\n",
        "        'SeaLake'\n",
        "    ],\n",
        "    batch_size=batch_size,\n",
        "    shuffle=False,)"
      ],
      "execution_count": 0,
      "outputs": [
        {
          "output_type": "stream",
          "text": [
            "Found 35 images belonging to 10 classes.\n"
          ],
          "name": "stdout"
        }
      ]
    },
    {
      "metadata": {
        "id": "HX3j05fGhs0R",
        "colab_type": "code",
        "outputId": "aec79cdf-702c-4182-baf2-86ce0164a77d",
        "colab": {
          "base_uri": "https://localhost:8080/",
          "height": 187
        }
      },
      "cell_type": "code",
      "source": [
        "fatih_generator.class_indices"
      ],
      "execution_count": 0,
      "outputs": [
        {
          "output_type": "execute_result",
          "data": {
            "text/plain": [
              "{'AnnualCrop': 1,\n",
              " 'Forest': 8,\n",
              " 'HerbaceousVegetation': 2,\n",
              " 'Highway': 0,\n",
              " 'Industrial': 3,\n",
              " 'Pasture': 7,\n",
              " 'PermanentCrop': 5,\n",
              " 'Residential': 4,\n",
              " 'River': 6,\n",
              " 'SeaLake': 9}"
            ]
          },
          "metadata": {
            "tags": []
          },
          "execution_count": 21
        }
      ]
    },
    {
      "metadata": {
        "id": "3tav9Yyag7WE",
        "colab_type": "code",
        "outputId": "dd350eab-aa2b-4169-eda9-9f1e658c9e6f",
        "colab": {
          "base_uri": "https://localhost:8080/",
          "height": 34
        }
      },
      "cell_type": "code",
      "source": [
        "fatih_generator.samples / batch_size"
      ],
      "execution_count": 0,
      "outputs": [
        {
          "output_type": "execute_result",
          "data": {
            "text/plain": [
              "1.4"
            ]
          },
          "metadata": {
            "tags": []
          },
          "execution_count": 22
        }
      ]
    },
    {
      "metadata": {
        "id": "ZbxybXmUrJK6",
        "colab_type": "code",
        "colab": {}
      },
      "cell_type": "code",
      "source": [
        "fatih_pred = model.predict_generator(fatih_generator, steps=math.ceil(fatih_generator.samples / batch_size))"
      ],
      "execution_count": 0,
      "outputs": []
    },
    {
      "metadata": {
        "id": "gWwyNh_zxxkU",
        "colab_type": "code",
        "outputId": "685cac4c-0a97-4eb1-abcf-1af277aae48f",
        "colab": {
          "base_uri": "https://localhost:8080/",
          "height": 612
        }
      },
      "cell_type": "code",
      "source": [
        "for i in range(0, len(fatih_pred)):\n",
        "  print(str(i) + \". \" + fatih_generator.filenames[i] + \"- Pred: \" + str(np.argmax(fatih_pred[i])) + \": \" +\n",
        "        list(fatih_generator.class_indices.keys())[list(fatih_generator.class_indices.values()).index(np.argmax(fatih_pred[i]))])"
      ],
      "execution_count": 0,
      "outputs": [
        {
          "output_type": "stream",
          "text": [
            "0. Highway/img0_0.jpg- Pred: 4: Residential\n",
            "1. Highway/img256_128.jpg- Pred: 3: Industrial\n",
            "2. Highway/img256_192.jpg- Pred: 6: River\n",
            "3. Highway/img256_256.jpg- Pred: 6: River\n",
            "4. Highway/img256_64.jpg- Pred: 3: Industrial\n",
            "5. Industrial/img128_192.jpg- Pred: 4: Residential\n",
            "6. Industrial/img128_256.jpg- Pred: 2: HerbaceousVegetation\n",
            "7. Industrial/img64_256.jpg- Pred: 4: Residential\n",
            "8. Industrial/img64_64.jpg- Pred: 4: Residential\n",
            "9. Residential/img0_128.jpg- Pred: 4: Residential\n",
            "10. Residential/img0_192.jpg- Pred: 4: Residential\n",
            "11. Residential/img0_320.jpg- Pred: 3: Industrial\n",
            "12. Residential/img0_384.jpg- Pred: 4: Residential\n",
            "13. Residential/img0_64.jpg- Pred: 4: Residential\n",
            "14. Residential/img128_0.jpg- Pred: 4: Residential\n",
            "15. Residential/img128_128.jpg- Pred: 4: Residential\n",
            "16. Residential/img128_320.jpg- Pred: 4: Residential\n",
            "17. Residential/img128_384.jpg- Pred: 3: Industrial\n",
            "18. Residential/img128_64.jpg- Pred: 4: Residential\n",
            "19. Residential/img192_0.jpg- Pred: 4: Residential\n",
            "20. Residential/img192_128.jpg- Pred: 4: Residential\n",
            "21. Residential/img192_192.jpg- Pred: 4: Residential\n",
            "22. Residential/img192_256.jpg- Pred: 4: Residential\n",
            "23. Residential/img192_320.jpg- Pred: 4: Residential\n",
            "24. Residential/img192_384.jpg- Pred: 4: Residential\n",
            "25. Residential/img192_64.jpg- Pred: 4: Residential\n",
            "26. Residential/img256_0.jpg- Pred: 4: Residential\n",
            "27. Residential/img256_320.jpg- Pred: 6: River\n",
            "28. Residential/img256_384.jpg- Pred: 2: HerbaceousVegetation\n",
            "29. Residential/img64_0.jpg- Pred: 4: Residential\n",
            "30. Residential/img64_128.jpg- Pred: 4: Residential\n",
            "31. Residential/img64_192.jpg- Pred: 4: Residential\n",
            "32. SeaLake/img0_256.jpg- Pred: 6: River\n",
            "33. SeaLake/img64_320.jpg- Pred: 3: Industrial\n",
            "34. SeaLake/img64_384.jpg- Pred: 6: River\n"
          ],
          "name": "stdout"
        }
      ]
    },
    {
      "metadata": {
        "id": "8pkr_3cEKPzs",
        "colab_type": "code",
        "colab": {}
      },
      "cell_type": "code",
      "source": [
        "labels = fatih_generator.classes\n",
        "cm_fatih = confusion_matrix(labels, np.argmax(fatih_pred, axis=1))"
      ],
      "execution_count": 0,
      "outputs": []
    },
    {
      "metadata": {
        "id": "7wuQpwoarX2N",
        "colab_type": "code",
        "outputId": "019da9d7-d506-402e-d0f5-7eb25fa72123",
        "colab": {
          "base_uri": "https://localhost:8080/",
          "height": 416
        }
      },
      "cell_type": "code",
      "source": [
        "cm_plot_labels = [\n",
        "    'Highway',\n",
        "        'AnnualCrop',\n",
        "        'HerbaceousVegetation',\n",
        "        'Industrial',\n",
        "        'Residential',\n",
        "        'PermanentCrop',\n",
        "        'River',\n",
        "        'Pasture',\n",
        "        'Forest',\n",
        "        'SeaLake']\n",
        "plot_confusion_matrix(cm_fatih, cm_plot_labels, title=\"Fatih Confusion Matrix\")"
      ],
      "execution_count": 0,
      "outputs": [
        {
          "output_type": "stream",
          "text": [
            "Confusion matrix, without normalization\n",
            "[[ 0  0  2  1  2  0]\n",
            " [ 0  0  0  0  0  0]\n",
            " [ 0  1  0  3  0  0]\n",
            " [ 0  1  2 19  1  0]\n",
            " [ 0  0  0  0  0  0]\n",
            " [ 0  0  1  0  2  0]]\n"
          ],
          "name": "stdout"
        },
        {
          "output_type": "display_data",
          "data": {
            "image/png": "[encoded data removed]",
            "text/plain": [
              "<Figure size 432x288 with 2 Axes>"
            ]
          },
          "metadata": {
            "tags": []
          }
        }
      ]
    },
    {
      "metadata": {
        "id": "6YuWAs33UVX3",
        "colab_type": "code",
        "outputId": "308dace9-cf9a-4d4e-d6d7-16291a8a44e8",
        "colab": {
          "base_uri": "https://localhost:8080/",
          "height": 34
        }
      },
      "cell_type": "code",
      "source": [
        "accuracy_score(labels, np.argmax(fatih_pred, axis=1))"
      ],
      "execution_count": 0,
      "outputs": [
        {
          "output_type": "execute_result",
          "data": {
            "text/plain": [
              "0.5428571428571428"
            ]
          },
          "metadata": {
            "tags": []
          },
          "execution_count": 27
        }
      ]
    },
    {
      "metadata": {
        "id": "fyrUabtSQrqN",
        "colab_type": "text"
      },
      "cell_type": "markdown",
      "source": [
        "# Güllük"
      ]
    },
    {
      "metadata": {
        "id": "IcYuwMa3yu1-",
        "colab_type": "code",
        "outputId": "c73ae148-f1c1-43b8-c84c-0e507ee50a57",
        "colab": {
          "base_uri": "https://localhost:8080/",
          "height": 34
        }
      },
      "cell_type": "code",
      "source": [
        "gulluk_generator = ImageDataGenerator().flow_from_directory(\n",
        "    'drive/My Drive/PhD/Data/Sat/gulluk',\n",
        "    target_size=(img_width, img_height),\n",
        "    classes=\n",
        "    [\n",
        "        'Highway',\n",
        "        'AnnualCrop',\n",
        "        'HerbaceousVegetation',\n",
        "        'Industrial',\n",
        "        'Residential',\n",
        "        'PermanentCrop',\n",
        "        'River',\n",
        "        'Pasture',\n",
        "        'Forest',\n",
        "        'SeaLake'\n",
        "    ],\n",
        "    batch_size=batch_size,\n",
        "    shuffle=False,)\n",
        "\n",
        "gulluk_pred = model.predict_generator(gulluk_generator, steps=math.ceil(gulluk_generator.samples / batch_size))"
      ],
      "execution_count": 0,
      "outputs": [
        {
          "output_type": "stream",
          "text": [
            "Found 1024 images belonging to 10 classes.\n"
          ],
          "name": "stdout"
        }
      ]
    },
    {
      "metadata": {
        "id": "mNdEPgtRQw2g",
        "colab_type": "code",
        "outputId": "9d4874f9-b5cb-4ac9-e95d-765494a57d2c",
        "colab": {
          "base_uri": "https://localhost:8080/",
          "height": 17425
        }
      },
      "cell_type": "code",
      "source": [
        "for i in range(0, len(gulluk_pred)):\n",
        "  print(str(i) + \". \" + gulluk_generator.filenames[i] + \"- Pred: \" + str(np.argmax(gulluk_pred[i])) + \": \" +\n",
        "        list(gulluk_generator.class_indices.keys())[list(gulluk_generator.class_indices.values()).index(np.argmax(gulluk_pred[i]))])"
      ],
      "execution_count": 0,
      "outputs": [
        {
          "output_type": "stream",
          "text": [
            "0. Residential/img0_0.jpg- Pred: 4: Residential\n",
            "1. Residential/img0_1024.jpg- Pred: 2: HerbaceousVegetation\n",
            "2. Residential/img0_1088.jpg- Pred: 2: HerbaceousVegetation\n",
            "3. Residential/img0_1152.jpg- Pred: 2: HerbaceousVegetation\n",
            "4. Residential/img0_1216.jpg- Pred: 2: HerbaceousVegetation\n",
            "5. Residential/img0_128.jpg- Pred: 2: HerbaceousVegetation\n",
            "6. Residential/img0_1280.jpg- Pred: 4: Residential\n",
            "7. Residential/img0_1344.jpg- Pred: 2: HerbaceousVegetation\n",
            "8. Residential/img0_1408.jpg- Pred: 2: HerbaceousVegetation\n",
            "9. Residential/img0_1472.jpg- Pred: 2: HerbaceousVegetation\n",
            "10. Residential/img0_1536.jpg- Pred: 0: Highway\n",
            "11. Residential/img0_1600.jpg- Pred: 2: HerbaceousVegetation\n",
            "12. Residential/img0_1664.jpg- Pred: 2: HerbaceousVegetation\n",
            "13. Residential/img0_1728.jpg- Pred: 2: HerbaceousVegetation\n",
            "14. Residential/img0_1792.jpg- Pred: 2: HerbaceousVegetation\n",
            "15. Residential/img0_1856.jpg- Pred: 2: HerbaceousVegetation\n",
            "16. Residential/img0_192.jpg- Pred: 8: Forest\n",
            "17. Residential/img0_1920.jpg- Pred: 2: HerbaceousVegetation\n",
            "18. Residential/img0_1984.jpg- Pred: 2: HerbaceousVegetation\n",
            "19. Residential/img0_256.jpg- Pred: 2: HerbaceousVegetation\n",
            "20. Residential/img0_320.jpg- Pred: 2: HerbaceousVegetation\n",
            "21. Residential/img0_384.jpg- Pred: 2: HerbaceousVegetation\n",
            "22. Residential/img0_448.jpg- Pred: 2: HerbaceousVegetation\n",
            "23. Residential/img0_512.jpg- Pred: 2: HerbaceousVegetation\n",
            "24. Residential/img0_576.jpg- Pred: 0: Highway\n",
            "25. Residential/img0_64.jpg- Pred: 8: Forest\n",
            "26. Residential/img0_640.jpg- Pred: 5: PermanentCrop\n",
            "27. Residential/img0_704.jpg- Pred: 2: HerbaceousVegetation\n",
            "28. Residential/img0_768.jpg- Pred: 0: Highway\n",
            "29. Residential/img0_832.jpg- Pred: 2: HerbaceousVegetation\n",
            "30. Residential/img0_896.jpg- Pred: 2: HerbaceousVegetation\n",
            "31. Residential/img0_960.jpg- Pred: 2: HerbaceousVegetation\n",
            "32. Residential/img1024_0.jpg- Pred: 5: PermanentCrop\n",
            "33. Residential/img1024_1024.jpg- Pred: 5: PermanentCrop\n",
            "34. Residential/img1024_1088.jpg- Pred: 0: Highway\n",
            "35. Residential/img1024_1152.jpg- Pred: 0: Highway\n",
            "36. Residential/img1024_1216.jpg- Pred: 7: Pasture\n",
            "37. Residential/img1024_128.jpg- Pred: 6: River\n",
            "38. Residential/img1024_1280.jpg- Pred: 5: PermanentCrop\n",
            "39. Residential/img1024_1344.jpg- Pred: 6: River\n",
            "40. Residential/img1024_1408.jpg- Pred: 2: HerbaceousVegetation\n",
            "41. Residential/img1024_1472.jpg- Pred: 2: HerbaceousVegetation\n",
            "42. Residential/img1024_1536.jpg- Pred: 2: HerbaceousVegetation\n",
            "43. Residential/img1024_1600.jpg- Pred: 2: HerbaceousVegetation\n",
            "44. Residential/img1024_1664.jpg- Pred: 2: HerbaceousVegetation\n",
            "45. Residential/img1024_1728.jpg- Pred: 2: HerbaceousVegetation\n",
            "46. Residential/img1024_1792.jpg- Pred: 3: Industrial\n",
            "47. Residential/img1024_1856.jpg- Pred: 2: HerbaceousVegetation\n",
            "48. Residential/img1024_192.jpg- Pred: 7: Pasture\n",
            "49. Residential/img1024_1920.jpg- Pred: 5: PermanentCrop\n",
            "50. Residential/img1024_1984.jpg- Pred: 2: HerbaceousVegetation\n",
            "51. Residential/img1024_256.jpg- Pred: 2: HerbaceousVegetation\n",
            "52. Residential/img1024_320.jpg- Pred: 2: HerbaceousVegetation\n",
            "53. Residential/img1024_384.jpg- Pred: 2: HerbaceousVegetation\n",
            "54. Residential/img1024_448.jpg- Pred: 2: HerbaceousVegetation\n",
            "55. Residential/img1024_512.jpg- Pred: 6: River\n",
            "56. Residential/img1024_576.jpg- Pred: 2: HerbaceousVegetation\n",
            "57. Residential/img1024_64.jpg- Pred: 9: SeaLake\n",
            "58. Residential/img1024_640.jpg- Pred: 2: HerbaceousVegetation\n",
            "59. Residential/img1024_704.jpg- Pred: 7: Pasture\n",
            "60. Residential/img1024_768.jpg- Pred: 2: HerbaceousVegetation\n",
            "61. Residential/img1024_832.jpg- Pred: 2: HerbaceousVegetation\n",
            "62. Residential/img1024_896.jpg- Pred: 0: Highway\n",
            "63. Residential/img1024_960.jpg- Pred: 3: Industrial\n",
            "64. Residential/img1088_0.jpg- Pred: 6: River\n",
            "65. Residential/img1088_1024.jpg- Pred: 5: PermanentCrop\n",
            "66. Residential/img1088_1088.jpg- Pred: 5: PermanentCrop\n",
            "67. Residential/img1088_1152.jpg- Pred: 5: PermanentCrop\n",
            "68. Residential/img1088_1216.jpg- Pred: 7: Pasture\n",
            "69. Residential/img1088_128.jpg- Pred: 9: SeaLake\n",
            "70. Residential/img1088_1280.jpg- Pred: 2: HerbaceousVegetation\n",
            "71. Residential/img1088_1344.jpg- Pred: 0: Highway\n",
            "72. Residential/img1088_1408.jpg- Pred: 2: HerbaceousVegetation\n",
            "73. Residential/img1088_1472.jpg- Pred: 2: HerbaceousVegetation\n",
            "74. Residential/img1088_1536.jpg- Pred: 6: River\n",
            "75. Residential/img1088_1600.jpg- Pred: 2: HerbaceousVegetation\n",
            "76. Residential/img1088_1664.jpg- Pred: 2: HerbaceousVegetation\n",
            "77. Residential/img1088_1728.jpg- Pred: 2: HerbaceousVegetation\n",
            "78. Residential/img1088_1792.jpg- Pred: 2: HerbaceousVegetation\n",
            "79. Residential/img1088_1856.jpg- Pred: 2: HerbaceousVegetation\n",
            "80. Residential/img1088_192.jpg- Pred: 9: SeaLake\n",
            "81. Residential/img1088_1920.jpg- Pred: 3: Industrial\n",
            "82. Residential/img1088_1984.jpg- Pred: 2: HerbaceousVegetation\n",
            "83. Residential/img1088_256.jpg- Pred: 2: HerbaceousVegetation\n",
            "84. Residential/img1088_320.jpg- Pred: 2: HerbaceousVegetation\n",
            "85. Residential/img1088_384.jpg- Pred: 2: HerbaceousVegetation\n",
            "86. Residential/img1088_448.jpg- Pred: 2: HerbaceousVegetation\n",
            "87. Residential/img1088_512.jpg- Pred: 2: HerbaceousVegetation\n",
            "88. Residential/img1088_576.jpg- Pred: 7: Pasture\n",
            "89. Residential/img1088_64.jpg- Pred: 9: SeaLake\n",
            "90. Residential/img1088_640.jpg- Pred: 2: HerbaceousVegetation\n",
            "91. Residential/img1088_704.jpg- Pred: 3: Industrial\n",
            "92. Residential/img1088_768.jpg- Pred: 2: HerbaceousVegetation\n",
            "93. Residential/img1088_832.jpg- Pred: 1: AnnualCrop\n",
            "94. Residential/img1088_896.jpg- Pred: 0: Highway\n",
            "95. Residential/img1088_960.jpg- Pred: 5: PermanentCrop\n",
            "96. Residential/img1152_0.jpg- Pred: 9: SeaLake\n",
            "97. Residential/img1152_1024.jpg- Pred: 0: Highway\n",
            "98. Residential/img1152_1088.jpg- Pred: 5: PermanentCrop\n",
            "99. Residential/img1152_1152.jpg- Pred: 5: PermanentCrop\n",
            "100. Residential/img1152_1216.jpg- Pred: 5: PermanentCrop\n",
            "101. Residential/img1152_128.jpg- Pred: 9: SeaLake\n",
            "102. Residential/img1152_1280.jpg- Pred: 0: Highway\n",
            "103. Residential/img1152_1344.jpg- Pred: 0: Highway\n",
            "104. Residential/img1152_1408.jpg- Pred: 2: HerbaceousVegetation\n",
            "105. Residential/img1152_1472.jpg- Pred: 2: HerbaceousVegetation\n",
            "106. Residential/img1152_1536.jpg- Pred: 0: Highway\n",
            "107. Residential/img1152_1600.jpg- Pred: 2: HerbaceousVegetation\n",
            "108. Residential/img1152_1664.jpg- Pred: 2: HerbaceousVegetation\n",
            "109. Residential/img1152_1728.jpg- Pred: 7: Pasture\n",
            "110. Residential/img1152_1792.jpg- Pred: 5: PermanentCrop\n",
            "111. Residential/img1152_1856.jpg- Pred: 2: HerbaceousVegetation\n",
            "112. Residential/img1152_192.jpg- Pred: 9: SeaLake\n",
            "113. Residential/img1152_1920.jpg- Pred: 2: HerbaceousVegetation\n",
            "114. Residential/img1152_1984.jpg- Pred: 2: HerbaceousVegetation\n",
            "115. Residential/img1152_256.jpg- Pred: 2: HerbaceousVegetation\n",
            "116. Residential/img1152_320.jpg- Pred: 2: HerbaceousVegetation\n",
            "117. Residential/img1152_384.jpg- Pred: 2: HerbaceousVegetation\n",
            "118. Residential/img1152_448.jpg- Pred: 5: PermanentCrop\n",
            "119. Residential/img1152_512.jpg- Pred: 0: Highway\n",
            "120. Residential/img1152_576.jpg- Pred: 2: HerbaceousVegetation\n",
            "121. Residential/img1152_64.jpg- Pred: 9: SeaLake\n",
            "122. Residential/img1152_640.jpg- Pred: 2: HerbaceousVegetation\n",
            "123. Residential/img1152_704.jpg- Pred: 2: HerbaceousVegetation\n",
            "124. Residential/img1152_768.jpg- Pred: 2: HerbaceousVegetation\n",
            "125. Residential/img1152_832.jpg- Pred: 1: AnnualCrop\n",
            "126. Residential/img1152_896.jpg- Pred: 5: PermanentCrop\n",
            "127. Residential/img1152_960.jpg- Pred: 0: Highway\n",
            "128. Residential/img1216_0.jpg- Pred: 9: SeaLake\n",
            "129. Residential/img1216_1024.jpg- Pred: 5: PermanentCrop\n",
            "130. Residential/img1216_1088.jpg- Pred: 5: PermanentCrop\n",
            "131. Residential/img1216_1152.jpg- Pred: 0: Highway\n",
            "132. Residential/img1216_1216.jpg- Pred: 5: PermanentCrop\n",
            "133. Residential/img1216_128.jpg- Pred: 9: SeaLake\n",
            "134. Residential/img1216_1280.jpg- Pred: 7: Pasture\n",
            "135. Residential/img1216_1344.jpg- Pred: 0: Highway\n",
            "136. Residential/img1216_1408.jpg- Pred: 2: HerbaceousVegetation\n",
            "137. Residential/img1216_1472.jpg- Pred: 2: HerbaceousVegetation\n",
            "138. Residential/img1216_1536.jpg- Pred: 2: HerbaceousVegetation\n",
            "139. Residential/img1216_1600.jpg- Pred: 7: Pasture\n",
            "140. Residential/img1216_1664.jpg- Pred: 7: Pasture\n",
            "141. Residential/img1216_1728.jpg- Pred: 7: Pasture\n",
            "142. Residential/img1216_1792.jpg- Pred: 2: HerbaceousVegetation\n",
            "143. Residential/img1216_1856.jpg- Pred: 2: HerbaceousVegetation\n",
            "144. Residential/img1216_192.jpg- Pred: 9: SeaLake\n",
            "145. Residential/img1216_1920.jpg- Pred: 2: HerbaceousVegetation\n",
            "146. Residential/img1216_1984.jpg- Pred: 2: HerbaceousVegetation\n",
            "147. Residential/img1216_256.jpg- Pred: 7: Pasture\n",
            "148. Residential/img1216_320.jpg- Pred: 7: Pasture\n",
            "149. Residential/img1216_384.jpg- Pred: 2: HerbaceousVegetation\n",
            "150. Residential/img1216_448.jpg- Pred: 2: HerbaceousVegetation\n",
            "151. Residential/img1216_512.jpg- Pred: 2: HerbaceousVegetation\n",
            "152. Residential/img1216_576.jpg- Pred: 2: HerbaceousVegetation\n",
            "153. Residential/img1216_64.jpg- Pred: 9: SeaLake\n",
            "154. Residential/img1216_640.jpg- Pred: 2: HerbaceousVegetation\n",
            "155. Residential/img1216_704.jpg- Pred: 7: Pasture\n",
            "156. Residential/img1216_768.jpg- Pred: 7: Pasture\n",
            "157. Residential/img1216_832.jpg- Pred: 7: Pasture\n",
            "158. Residential/img1216_896.jpg- Pred: 0: Highway\n",
            "159. Residential/img1216_960.jpg- Pred: 1: AnnualCrop\n",
            "160. Residential/img1280_0.jpg- Pred: 9: SeaLake\n",
            "161. Residential/img1280_1024.jpg- Pred: 1: AnnualCrop\n",
            "162. Residential/img1280_1088.jpg- Pred: 1: AnnualCrop\n",
            "163. Residential/img1280_1152.jpg- Pred: 6: River\n",
            "164. Residential/img1280_1216.jpg- Pred: 0: Highway\n",
            "165. Residential/img1280_128.jpg- Pred: 9: SeaLake\n",
            "166. Residential/img1280_1280.jpg- Pred: 1: AnnualCrop\n",
            "167. Residential/img1280_1344.jpg- Pred: 7: Pasture\n",
            "168. Residential/img1280_1408.jpg- Pred: 2: HerbaceousVegetation\n",
            "169. Residential/img1280_1472.jpg- Pred: 4: Residential\n",
            "170. Residential/img1280_1536.jpg- Pred: 2: HerbaceousVegetation\n",
            "171. Residential/img1280_1600.jpg- Pred: 2: HerbaceousVegetation\n",
            "172. Residential/img1280_1664.jpg- Pred: 7: Pasture\n",
            "173. Residential/img1280_1728.jpg- Pred: 2: HerbaceousVegetation\n",
            "174. Residential/img1280_1792.jpg- Pred: 7: Pasture\n",
            "175. Residential/img1280_1856.jpg- Pred: 2: HerbaceousVegetation\n",
            "176. Residential/img1280_192.jpg- Pred: 2: HerbaceousVegetation\n",
            "177. Residential/img1280_1920.jpg- Pred: 2: HerbaceousVegetation\n",
            "178. Residential/img1280_1984.jpg- Pred: 2: HerbaceousVegetation\n",
            "179. Residential/img1280_256.jpg- Pred: 6: River\n",
            "180. Residential/img1280_320.jpg- Pred: 6: River\n",
            "181. Residential/img1280_384.jpg- Pred: 2: HerbaceousVegetation\n",
            "182. Residential/img1280_448.jpg- Pred: 0: Highway\n",
            "183. Residential/img1280_512.jpg- Pred: 6: River\n",
            "184. Residential/img1280_576.jpg- Pred: 6: River\n",
            "185. Residential/img1280_64.jpg- Pred: 9: SeaLake\n",
            "186. Residential/img1280_640.jpg- Pred: 6: River\n",
            "187. Residential/img1280_704.jpg- Pred: 0: Highway\n",
            "188. Residential/img1280_768.jpg- Pred: 7: Pasture\n",
            "189. Residential/img1280_832.jpg- Pred: 0: Highway\n",
            "190. Residential/img1280_896.jpg- Pred: 7: Pasture\n",
            "191. Residential/img1280_960.jpg- Pred: 0: Highway\n",
            "192. Residential/img128_0.jpg- Pred: 2: HerbaceousVegetation\n",
            "193. Residential/img128_1024.jpg- Pred: 8: Forest\n",
            "194. Residential/img128_1088.jpg- Pred: 2: HerbaceousVegetation\n",
            "195. Residential/img128_1152.jpg- Pred: 2: HerbaceousVegetation\n",
            "196. Residential/img128_1216.jpg- Pred: 2: HerbaceousVegetation\n",
            "197. Residential/img128_128.jpg- Pred: 2: HerbaceousVegetation\n",
            "198. Residential/img128_1280.jpg- Pred: 0: Highway\n",
            "199. Residential/img128_1344.jpg- Pred: 2: HerbaceousVegetation\n",
            "200. Residential/img128_1408.jpg- Pred: 2: HerbaceousVegetation\n",
            "201. Residential/img128_1472.jpg- Pred: 2: HerbaceousVegetation\n",
            "202. Residential/img128_1536.jpg- Pred: 5: PermanentCrop\n",
            "203. Residential/img128_1600.jpg- Pred: 5: PermanentCrop\n",
            "204. Residential/img128_1664.jpg- Pred: 5: PermanentCrop\n",
            "205. Residential/img128_1728.jpg- Pred: 0: Highway\n",
            "206. Residential/img128_1792.jpg- Pred: 2: HerbaceousVegetation\n",
            "207. Residential/img128_1856.jpg- Pred: 2: HerbaceousVegetation\n",
            "208. Residential/img128_192.jpg- Pred: 2: HerbaceousVegetation\n",
            "209. Residential/img128_1920.jpg- Pred: 2: HerbaceousVegetation\n",
            "210. Residential/img128_1984.jpg- Pred: 2: HerbaceousVegetation\n",
            "211. Residential/img128_256.jpg- Pred: 2: HerbaceousVegetation\n",
            "212. Residential/img128_320.jpg- Pred: 2: HerbaceousVegetation\n",
            "213. Residential/img128_384.jpg- Pred: 2: HerbaceousVegetation\n",
            "214. Residential/img128_448.jpg- Pred: 2: HerbaceousVegetation\n",
            "215. Residential/img128_512.jpg- Pred: 2: HerbaceousVegetation\n",
            "216. Residential/img128_576.jpg- Pred: 2: HerbaceousVegetation\n",
            "217. Residential/img128_64.jpg- Pred: 2: HerbaceousVegetation\n",
            "218. Residential/img128_640.jpg- Pred: 6: River\n",
            "219. Residential/img128_704.jpg- Pred: 2: HerbaceousVegetation\n",
            "220. Residential/img128_768.jpg- Pred: 7: Pasture\n",
            "221. Residential/img128_832.jpg- Pred: 5: PermanentCrop\n",
            "222. Residential/img128_896.jpg- Pred: 0: Highway\n",
            "223. Residential/img128_960.jpg- Pred: 2: HerbaceousVegetation\n",
            "224. Residential/img1344_0.jpg- Pred: 9: SeaLake\n",
            "225. Residential/img1344_1024.jpg- Pred: 1: AnnualCrop\n",
            "226. Residential/img1344_1088.jpg- Pred: 2: HerbaceousVegetation\n",
            "227. Residential/img1344_1152.jpg- Pred: 1: AnnualCrop\n",
            "228. Residential/img1344_1216.jpg- Pred: 1: AnnualCrop\n",
            "229. Residential/img1344_128.jpg- Pred: 9: SeaLake\n",
            "230. Residential/img1344_1280.jpg- Pred: 5: PermanentCrop\n",
            "231. Residential/img1344_1344.jpg- Pred: 7: Pasture\n",
            "232. Residential/img1344_1408.jpg- Pred: 5: PermanentCrop\n",
            "233. Residential/img1344_1472.jpg- Pred: 4: Residential\n",
            "234. Residential/img1344_1536.jpg- Pred: 3: Industrial\n",
            "235. Residential/img1344_1600.jpg- Pred: 2: HerbaceousVegetation\n",
            "236. Residential/img1344_1664.jpg- Pred: 2: HerbaceousVegetation\n",
            "237. Residential/img1344_1728.jpg- Pred: 2: HerbaceousVegetation\n",
            "238. Residential/img1344_1792.jpg- Pred: 2: HerbaceousVegetation\n",
            "239. Residential/img1344_1856.jpg- Pred: 2: HerbaceousVegetation\n",
            "240. Residential/img1344_192.jpg- Pred: 2: HerbaceousVegetation\n",
            "241. Residential/img1344_1920.jpg- Pred: 2: HerbaceousVegetation\n",
            "242. Residential/img1344_1984.jpg- Pred: 2: HerbaceousVegetation\n",
            "243. Residential/img1344_256.jpg- Pred: 2: HerbaceousVegetation\n",
            "244. Residential/img1344_320.jpg- Pred: 6: River\n",
            "245. Residential/img1344_384.jpg- Pred: 2: HerbaceousVegetation\n",
            "246. Residential/img1344_448.jpg- Pred: 2: HerbaceousVegetation\n",
            "247. Residential/img1344_512.jpg- Pred: 0: Highway\n",
            "248. Residential/img1344_576.jpg- Pred: 6: River\n",
            "249. Residential/img1344_64.jpg- Pred: 9: SeaLake\n",
            "250. Residential/img1344_640.jpg- Pred: 3: Industrial\n",
            "251. Residential/img1344_704.jpg- Pred: 6: River\n",
            "252. Residential/img1344_768.jpg- Pred: 6: River\n",
            "253. Residential/img1344_832.jpg- Pred: 6: River\n",
            "254. Residential/img1344_896.jpg- Pred: 3: Industrial\n",
            "255. Residential/img1344_960.jpg- Pred: 7: Pasture\n",
            "256. Residential/img1408_0.jpg- Pred: 9: SeaLake\n",
            "257. Residential/img1408_1024.jpg- Pred: 0: Highway\n",
            "258. Residential/img1408_1088.jpg- Pred: 4: Residential\n",
            "259. Residential/img1408_1152.jpg- Pred: 2: HerbaceousVegetation\n",
            "260. Residential/img1408_1216.jpg- Pred: 0: Highway\n",
            "261. Residential/img1408_128.jpg- Pred: 6: River\n",
            "262. Residential/img1408_1280.jpg- Pred: 1: AnnualCrop\n",
            "263. Residential/img1408_1344.jpg- Pred: 5: PermanentCrop\n",
            "264. Residential/img1408_1408.jpg- Pred: 5: PermanentCrop\n",
            "265. Residential/img1408_1472.jpg- Pred: 5: PermanentCrop\n",
            "266. Residential/img1408_1536.jpg- Pred: 4: Residential\n",
            "267. Residential/img1408_1600.jpg- Pred: 2: HerbaceousVegetation\n",
            "268. Residential/img1408_1664.jpg- Pred: 7: Pasture\n",
            "269. Residential/img1408_1728.jpg- Pred: 2: HerbaceousVegetation\n",
            "270. Residential/img1408_1792.jpg- Pred: 2: HerbaceousVegetation\n",
            "271. Residential/img1408_1856.jpg- Pred: 2: HerbaceousVegetation\n",
            "272. Residential/img1408_192.jpg- Pred: 2: HerbaceousVegetation\n",
            "273. Residential/img1408_1920.jpg- Pred: 2: HerbaceousVegetation\n",
            "274. Residential/img1408_1984.jpg- Pred: 2: HerbaceousVegetation\n",
            "275. Residential/img1408_256.jpg- Pred: 3: Industrial\n",
            "276. Residential/img1408_320.jpg- Pred: 2: HerbaceousVegetation\n",
            "277. Residential/img1408_384.jpg- Pred: 0: Highway\n",
            "278. Residential/img1408_448.jpg- Pred: 2: HerbaceousVegetation\n",
            "279. Residential/img1408_512.jpg- Pred: 2: HerbaceousVegetation\n",
            "280. Residential/img1408_576.jpg- Pred: 3: Industrial\n",
            "281. Residential/img1408_64.jpg- Pred: 9: SeaLake\n",
            "282. Residential/img1408_640.jpg- Pred: 5: PermanentCrop\n",
            "283. Residential/img1408_704.jpg- Pred: 3: Industrial\n",
            "284. Residential/img1408_768.jpg- Pred: 3: Industrial\n",
            "285. Residential/img1408_832.jpg- Pred: 3: Industrial\n",
            "286. Residential/img1408_896.jpg- Pred: 4: Residential\n",
            "287. Residential/img1408_960.jpg- Pred: 2: HerbaceousVegetation\n",
            "288. Residential/img1472_0.jpg- Pred: 9: SeaLake\n",
            "289. Residential/img1472_1024.jpg- Pred: 2: HerbaceousVegetation\n",
            "290. Residential/img1472_1088.jpg- Pred: 2: HerbaceousVegetation\n",
            "291. Residential/img1472_1152.jpg- Pred: 2: HerbaceousVegetation\n",
            "292. Residential/img1472_1216.jpg- Pred: 7: Pasture\n",
            "293. Residential/img1472_128.jpg- Pred: 6: River\n",
            "294. Residential/img1472_1280.jpg- Pred: 6: River\n",
            "295. Residential/img1472_1344.jpg- Pred: 0: Highway\n",
            "296. Residential/img1472_1408.jpg- Pred: 0: Highway\n",
            "297. Residential/img1472_1472.jpg- Pred: 4: Residential\n",
            "298. Residential/img1472_1536.jpg- Pred: 2: HerbaceousVegetation\n",
            "299. Residential/img1472_1600.jpg- Pred: 8: Forest\n",
            "300. Residential/img1472_1664.jpg- Pred: 8: Forest\n",
            "301. Residential/img1472_1728.jpg- Pred: 2: HerbaceousVegetation\n",
            "302. Residential/img1472_1792.jpg- Pred: 6: River\n",
            "303. Residential/img1472_1856.jpg- Pred: 2: HerbaceousVegetation\n",
            "304. Residential/img1472_192.jpg- Pred: 3: Industrial\n",
            "305. Residential/img1472_1920.jpg- Pred: 2: HerbaceousVegetation\n",
            "306. Residential/img1472_1984.jpg- Pred: 2: HerbaceousVegetation\n",
            "307. Residential/img1472_256.jpg- Pred: 2: HerbaceousVegetation\n",
            "308. Residential/img1472_320.jpg- Pred: 2: HerbaceousVegetation\n",
            "309. Residential/img1472_384.jpg- Pred: 2: HerbaceousVegetation\n",
            "310. Residential/img1472_448.jpg- Pred: 6: River\n",
            "311. Residential/img1472_512.jpg- Pred: 2: HerbaceousVegetation\n",
            "312. Residential/img1472_576.jpg- Pred: 5: PermanentCrop\n",
            "313. Residential/img1472_64.jpg- Pred: 9: SeaLake\n",
            "314. Residential/img1472_640.jpg- Pred: 2: HerbaceousVegetation\n",
            "315. Residential/img1472_704.jpg- Pred: 2: HerbaceousVegetation\n",
            "316. Residential/img1472_768.jpg- Pred: 0: Highway\n",
            "317. Residential/img1472_832.jpg- Pred: 0: Highway\n",
            "318. Residential/img1472_896.jpg- Pred: 2: HerbaceousVegetation\n",
            "319. Residential/img1472_960.jpg- Pred: 2: HerbaceousVegetation\n",
            "320. Residential/img1536_0.jpg- Pred: 9: SeaLake\n",
            "321. Residential/img1536_1024.jpg- Pred: 6: River\n",
            "322. Residential/img1536_1088.jpg- Pred: 5: PermanentCrop\n",
            "323. Residential/img1536_1152.jpg- Pred: 2: HerbaceousVegetation\n",
            "324. Residential/img1536_1216.jpg- Pred: 7: Pasture\n",
            "325. Residential/img1536_128.jpg- Pred: 2: HerbaceousVegetation\n",
            "326. Residential/img1536_1280.jpg- Pred: 0: Highway\n",
            "327. Residential/img1536_1344.jpg- Pred: 1: AnnualCrop\n",
            "328. Residential/img1536_1408.jpg- Pred: 1: AnnualCrop\n",
            "329. Residential/img1536_1472.jpg- Pred: 1: AnnualCrop\n",
            "330. Residential/img1536_1536.jpg- Pred: 2: HerbaceousVegetation\n",
            "331. Residential/img1536_1600.jpg- Pred: 2: HerbaceousVegetation\n",
            "332. Residential/img1536_1664.jpg- Pred: 2: HerbaceousVegetation\n",
            "333. Residential/img1536_1728.jpg- Pred: 0: Highway\n",
            "334. Residential/img1536_1792.jpg- Pred: 6: River\n",
            "335. Residential/img1536_1856.jpg- Pred: 6: River\n",
            "336. Residential/img1536_192.jpg- Pred: 2: HerbaceousVegetation\n",
            "337. Residential/img1536_1920.jpg- Pred: 2: HerbaceousVegetation\n",
            "338. Residential/img1536_1984.jpg- Pred: 2: HerbaceousVegetation\n",
            "339. Residential/img1536_256.jpg- Pred: 2: HerbaceousVegetation\n",
            "340. Residential/img1536_320.jpg- Pred: 2: HerbaceousVegetation\n",
            "341. Residential/img1536_384.jpg- Pred: 2: HerbaceousVegetation\n",
            "342. Residential/img1536_448.jpg- Pred: 2: HerbaceousVegetation\n",
            "343. Residential/img1536_512.jpg- Pred: 2: HerbaceousVegetation\n",
            "344. Residential/img1536_576.jpg- Pred: 2: HerbaceousVegetation\n",
            "345. Residential/img1536_64.jpg- Pred: 6: River\n",
            "346. Residential/img1536_640.jpg- Pred: 0: Highway\n",
            "347. Residential/img1536_704.jpg- Pred: 0: Highway\n",
            "348. Residential/img1536_768.jpg- Pred: 3: Industrial\n",
            "349. Residential/img1536_832.jpg- Pred: 0: Highway\n",
            "350. Residential/img1536_896.jpg- Pred: 7: Pasture\n",
            "351. Residential/img1536_960.jpg- Pred: 2: HerbaceousVegetation\n",
            "352. Residential/img1600_0.jpg- Pred: 9: SeaLake\n",
            "353. Residential/img1600_1024.jpg- Pred: 5: PermanentCrop\n",
            "354. Residential/img1600_1088.jpg- Pred: 5: PermanentCrop\n",
            "355. Residential/img1600_1152.jpg- Pred: 5: PermanentCrop\n",
            "356. Residential/img1600_1216.jpg- Pred: 2: HerbaceousVegetation\n",
            "357. Residential/img1600_128.jpg- Pred: 2: HerbaceousVegetation\n",
            "358. Residential/img1600_1280.jpg- Pred: 1: AnnualCrop\n",
            "359. Residential/img1600_1344.jpg- Pred: 6: River\n",
            "360. Residential/img1600_1408.jpg- Pred: 6: River\n",
            "361. Residential/img1600_1472.jpg- Pred: 1: AnnualCrop\n",
            "362. Residential/img1600_1536.jpg- Pred: 2: HerbaceousVegetation\n",
            "363. Residential/img1600_1600.jpg- Pred: 2: HerbaceousVegetation\n",
            "364. Residential/img1600_1664.jpg- Pred: 2: HerbaceousVegetation\n",
            "365. Residential/img1600_1728.jpg- Pred: 2: HerbaceousVegetation\n",
            "366. Residential/img1600_1792.jpg- Pred: 2: HerbaceousVegetation\n",
            "367. Residential/img1600_1856.jpg- Pred: 2: HerbaceousVegetation\n",
            "368. Residential/img1600_192.jpg- Pred: 2: HerbaceousVegetation\n",
            "369. Residential/img1600_1920.jpg- Pred: 2: HerbaceousVegetation\n",
            "370. Residential/img1600_1984.jpg- Pred: 2: HerbaceousVegetation\n",
            "371. Residential/img1600_256.jpg- Pred: 2: HerbaceousVegetation\n",
            "372. Residential/img1600_320.jpg- Pred: 2: HerbaceousVegetation\n",
            "373. Residential/img1600_384.jpg- Pred: 2: HerbaceousVegetation\n",
            "374. Residential/img1600_448.jpg- Pred: 2: HerbaceousVegetation\n",
            "375. Residential/img1600_512.jpg- Pred: 2: HerbaceousVegetation\n",
            "376. Residential/img1600_576.jpg- Pred: 2: HerbaceousVegetation\n",
            "377. Residential/img1600_64.jpg- Pred: 3: Industrial\n",
            "378. Residential/img1600_640.jpg- Pred: 7: Pasture\n",
            "379. Residential/img1600_704.jpg- Pred: 2: HerbaceousVegetation\n",
            "380. Residential/img1600_768.jpg- Pred: 2: HerbaceousVegetation\n",
            "381. Residential/img1600_832.jpg- Pred: 5: PermanentCrop\n",
            "382. Residential/img1600_896.jpg- Pred: 1: AnnualCrop\n",
            "383. Residential/img1600_960.jpg- Pred: 0: Highway\n",
            "384. Residential/img1664_0.jpg- Pred: 3: Industrial\n",
            "385. Residential/img1664_1024.jpg- Pred: 5: PermanentCrop\n",
            "386. Residential/img1664_1088.jpg- Pred: 5: PermanentCrop\n",
            "387. Residential/img1664_1152.jpg- Pred: 5: PermanentCrop\n",
            "388. Residential/img1664_1216.jpg- Pred: 1: AnnualCrop\n",
            "389. Residential/img1664_128.jpg- Pred: 2: HerbaceousVegetation\n",
            "390. Residential/img1664_1280.jpg- Pred: 1: AnnualCrop\n",
            "391. Residential/img1664_1344.jpg- Pred: 0: Highway\n",
            "392. Residential/img1664_1408.jpg- Pred: 2: HerbaceousVegetation\n",
            "393. Residential/img1664_1472.jpg- Pred: 0: Highway\n",
            "394. Residential/img1664_1536.jpg- Pred: 4: Residential\n",
            "395. Residential/img1664_1600.jpg- Pred: 4: Residential\n",
            "396. Residential/img1664_1664.jpg- Pred: 4: Residential\n",
            "397. Residential/img1664_1728.jpg- Pred: 4: Residential\n",
            "398. Residential/img1664_1792.jpg- Pred: 2: HerbaceousVegetation\n",
            "399. Residential/img1664_1856.jpg- Pred: 5: PermanentCrop\n",
            "400. Residential/img1664_192.jpg- Pred: 2: HerbaceousVegetation\n",
            "401. Residential/img1664_1920.jpg- Pred: 2: HerbaceousVegetation\n",
            "402. Residential/img1664_1984.jpg- Pred: 2: HerbaceousVegetation\n",
            "403. Residential/img1664_256.jpg- Pred: 2: HerbaceousVegetation\n",
            "404. Residential/img1664_320.jpg- Pred: 2: HerbaceousVegetation\n",
            "405. Residential/img1664_384.jpg- Pred: 2: HerbaceousVegetation\n",
            "406. Residential/img1664_448.jpg- Pred: 2: HerbaceousVegetation\n",
            "407. Residential/img1664_512.jpg- Pred: 2: HerbaceousVegetation\n",
            "408. Residential/img1664_576.jpg- Pred: 2: HerbaceousVegetation\n",
            "409. Residential/img1664_64.jpg- Pred: 2: HerbaceousVegetation\n",
            "410. Residential/img1664_640.jpg- Pred: 2: HerbaceousVegetation\n",
            "411. Residential/img1664_704.jpg- Pred: 2: HerbaceousVegetation\n",
            "412. Residential/img1664_768.jpg- Pred: 6: River\n",
            "413. Residential/img1664_832.jpg- Pred: 2: HerbaceousVegetation\n",
            "414. Residential/img1664_896.jpg- Pred: 0: Highway\n",
            "415. Residential/img1664_960.jpg- Pred: 0: Highway\n",
            "416. Residential/img1728_0.jpg- Pred: 3: Industrial\n",
            "417. Residential/img1728_1024.jpg- Pred: 5: PermanentCrop\n",
            "418. Residential/img1728_1088.jpg- Pred: 5: PermanentCrop\n",
            "419. Residential/img1728_1152.jpg- Pred: 6: River\n",
            "420. Residential/img1728_1216.jpg- Pred: 1: AnnualCrop\n",
            "421. Residential/img1728_128.jpg- Pred: 2: HerbaceousVegetation\n",
            "422. Residential/img1728_1280.jpg- Pred: 6: River\n",
            "423. Residential/img1728_1344.jpg- Pred: 5: PermanentCrop\n",
            "424. Residential/img1728_1408.jpg- Pred: 2: HerbaceousVegetation\n",
            "425. Residential/img1728_1472.jpg- Pred: 4: Residential\n",
            "426. Residential/img1728_1536.jpg- Pred: 5: PermanentCrop\n",
            "427. Residential/img1728_1600.jpg- Pred: 5: PermanentCrop\n",
            "428. Residential/img1728_1664.jpg- Pred: 5: PermanentCrop\n",
            "429. Residential/img1728_1728.jpg- Pred: 5: PermanentCrop\n",
            "430. Residential/img1728_1792.jpg- Pred: 5: PermanentCrop\n",
            "431. Residential/img1728_1856.jpg- Pred: 2: HerbaceousVegetation\n",
            "432. Residential/img1728_192.jpg- Pred: 2: HerbaceousVegetation\n",
            "433. Residential/img1728_1920.jpg- Pred: 2: HerbaceousVegetation\n",
            "434. Residential/img1728_1984.jpg- Pred: 2: HerbaceousVegetation\n",
            "435. Residential/img1728_256.jpg- Pred: 2: HerbaceousVegetation\n",
            "436. Residential/img1728_320.jpg- Pred: 2: HerbaceousVegetation\n",
            "437. Residential/img1728_384.jpg- Pred: 2: HerbaceousVegetation\n",
            "438. Residential/img1728_448.jpg- Pred: 2: HerbaceousVegetation\n",
            "439. Residential/img1728_512.jpg- Pred: 2: HerbaceousVegetation\n",
            "440. Residential/img1728_576.jpg- Pred: 2: HerbaceousVegetation\n",
            "441. Residential/img1728_64.jpg- Pred: 2: HerbaceousVegetation\n",
            "442. Residential/img1728_640.jpg- Pred: 0: Highway\n",
            "443. Residential/img1728_704.jpg- Pred: 6: River\n",
            "444. Residential/img1728_768.jpg- Pred: 7: Pasture\n",
            "445. Residential/img1728_832.jpg- Pred: 2: HerbaceousVegetation\n",
            "446. Residential/img1728_896.jpg- Pred: 2: HerbaceousVegetation\n",
            "447. Residential/img1728_960.jpg- Pred: 0: Highway\n",
            "448. Residential/img1792_0.jpg- Pred: 2: HerbaceousVegetation\n",
            "449. Residential/img1792_1024.jpg- Pred: 6: River\n",
            "450. Residential/img1792_1088.jpg- Pred: 3: Industrial\n",
            "451. Residential/img1792_1152.jpg- Pred: 0: Highway\n",
            "452. Residential/img1792_1216.jpg- Pred: 6: River\n",
            "453. Residential/img1792_128.jpg- Pred: 2: HerbaceousVegetation\n",
            "454. Residential/img1792_1280.jpg- Pred: 6: River\n",
            "455. Residential/img1792_1344.jpg- Pred: 6: River\n",
            "456. Residential/img1792_1408.jpg- Pred: 5: PermanentCrop\n",
            "457. Residential/img1792_1472.jpg- Pred: 5: PermanentCrop\n",
            "458. Residential/img1792_1536.jpg- Pred: 0: Highway\n",
            "459. Residential/img1792_1600.jpg- Pred: 5: PermanentCrop\n",
            "460. Residential/img1792_1664.jpg- Pred: 2: HerbaceousVegetation\n",
            "461. Residential/img1792_1728.jpg- Pred: 2: HerbaceousVegetation\n",
            "462. Residential/img1792_1792.jpg- Pred: 2: HerbaceousVegetation\n",
            "463. Residential/img1792_1856.jpg- Pred: 2: HerbaceousVegetation\n",
            "464. Residential/img1792_192.jpg- Pred: 2: HerbaceousVegetation\n",
            "465. Residential/img1792_1920.jpg- Pred: 2: HerbaceousVegetation\n",
            "466. Residential/img1792_1984.jpg- Pred: 2: HerbaceousVegetation\n",
            "467. Residential/img1792_256.jpg- Pred: 2: HerbaceousVegetation\n",
            "468. Residential/img1792_320.jpg- Pred: 2: HerbaceousVegetation\n",
            "469. Residential/img1792_384.jpg- Pred: 2: HerbaceousVegetation\n",
            "470. Residential/img1792_448.jpg- Pred: 2: HerbaceousVegetation\n",
            "471. Residential/img1792_512.jpg- Pred: 2: HerbaceousVegetation\n",
            "472. Residential/img1792_576.jpg- Pred: 2: HerbaceousVegetation\n",
            "473. Residential/img1792_64.jpg- Pred: 2: HerbaceousVegetation\n",
            "474. Residential/img1792_640.jpg- Pred: 6: River\n",
            "475. Residential/img1792_704.jpg- Pred: 6: River\n",
            "476. Residential/img1792_768.jpg- Pred: 2: HerbaceousVegetation\n",
            "477. Residential/img1792_832.jpg- Pred: 6: River\n",
            "478. Residential/img1792_896.jpg- Pred: 6: River\n",
            "479. Residential/img1792_960.jpg- Pred: 6: River\n",
            "480. Residential/img1856_0.jpg- Pred: 6: River\n",
            "481. Residential/img1856_1024.jpg- Pred: 0: Highway\n",
            "482. Residential/img1856_1088.jpg- Pred: 2: HerbaceousVegetation\n",
            "483. Residential/img1856_1152.jpg- Pred: 2: HerbaceousVegetation\n",
            "484. Residential/img1856_1216.jpg- Pred: 2: HerbaceousVegetation\n",
            "485. Residential/img1856_128.jpg- Pred: 2: HerbaceousVegetation\n",
            "486. Residential/img1856_1280.jpg- Pred: 0: Highway\n",
            "487. Residential/img1856_1344.jpg- Pred: 0: Highway\n",
            "488. Residential/img1856_1408.jpg- Pred: 2: HerbaceousVegetation\n",
            "489. Residential/img1856_1472.jpg- Pred: 7: Pasture\n",
            "490. Residential/img1856_1536.jpg- Pred: 2: HerbaceousVegetation\n",
            "491. Residential/img1856_1600.jpg- Pred: 2: HerbaceousVegetation\n",
            "492. Residential/img1856_1664.jpg- Pred: 2: HerbaceousVegetation\n",
            "493. Residential/img1856_1728.jpg- Pred: 2: HerbaceousVegetation\n",
            "494. Residential/img1856_1792.jpg- Pred: 2: HerbaceousVegetation\n",
            "495. Residential/img1856_1856.jpg- Pred: 2: HerbaceousVegetation\n",
            "496. Residential/img1856_192.jpg- Pred: 2: HerbaceousVegetation\n",
            "497. Residential/img1856_1920.jpg- Pred: 2: HerbaceousVegetation\n",
            "498. Residential/img1856_1984.jpg- Pred: 2: HerbaceousVegetation\n",
            "499. Residential/img1856_256.jpg- Pred: 2: HerbaceousVegetation\n",
            "500. Residential/img1856_320.jpg- Pred: 7: Pasture\n",
            "501. Residential/img1856_384.jpg- Pred: 2: HerbaceousVegetation\n",
            "502. Residential/img1856_448.jpg- Pred: 2: HerbaceousVegetation\n",
            "503. Residential/img1856_512.jpg- Pred: 6: River\n",
            "504. Residential/img1856_576.jpg- Pred: 0: Highway\n",
            "505. Residential/img1856_64.jpg- Pred: 7: Pasture\n",
            "506. Residential/img1856_640.jpg- Pred: 2: HerbaceousVegetation\n",
            "507. Residential/img1856_704.jpg- Pred: 2: HerbaceousVegetation\n",
            "508. Residential/img1856_768.jpg- Pred: 2: HerbaceousVegetation\n",
            "509. Residential/img1856_832.jpg- Pred: 2: HerbaceousVegetation\n",
            "510. Residential/img1856_896.jpg- Pred: 6: River\n",
            "511. Residential/img1856_960.jpg- Pred: 0: Highway\n",
            "512. Residential/img1920_0.jpg- Pred: 2: HerbaceousVegetation\n",
            "513. Residential/img1920_1024.jpg- Pred: 7: Pasture\n",
            "514. Residential/img1920_1088.jpg- Pred: 2: HerbaceousVegetation\n",
            "515. Residential/img1920_1152.jpg- Pred: 2: HerbaceousVegetation\n",
            "516. Residential/img1920_1216.jpg- Pred: 2: HerbaceousVegetation\n",
            "517. Residential/img1920_128.jpg- Pred: 2: HerbaceousVegetation\n",
            "518. Residential/img1920_1280.jpg- Pred: 6: River\n",
            "519. Residential/img1920_1344.jpg- Pred: 2: HerbaceousVegetation\n",
            "520. Residential/img1920_1408.jpg- Pred: 2: HerbaceousVegetation\n",
            "521. Residential/img1920_1472.jpg- Pred: 5: PermanentCrop\n",
            "522. Residential/img1920_1536.jpg- Pred: 2: HerbaceousVegetation\n",
            "523. Residential/img1920_1600.jpg- Pred: 2: HerbaceousVegetation\n",
            "524. Residential/img1920_1664.jpg- Pred: 2: HerbaceousVegetation\n",
            "525. Residential/img1920_1728.jpg- Pred: 2: HerbaceousVegetation\n",
            "526. Residential/img1920_1792.jpg- Pred: 2: HerbaceousVegetation\n",
            "527. Residential/img1920_1856.jpg- Pred: 2: HerbaceousVegetation\n",
            "528. Residential/img1920_192.jpg- Pred: 2: HerbaceousVegetation\n",
            "529. Residential/img1920_1920.jpg- Pred: 2: HerbaceousVegetation\n",
            "530. Residential/img1920_1984.jpg- Pred: 2: HerbaceousVegetation\n",
            "531. Residential/img1920_256.jpg- Pred: 2: HerbaceousVegetation\n",
            "532. Residential/img1920_320.jpg- Pred: 2: HerbaceousVegetation\n",
            "533. Residential/img1920_384.jpg- Pred: 2: HerbaceousVegetation\n",
            "534. Residential/img1920_448.jpg- Pred: 0: Highway\n",
            "535. Residential/img1920_512.jpg- Pred: 2: HerbaceousVegetation\n",
            "536. Residential/img1920_576.jpg- Pred: 2: HerbaceousVegetation\n",
            "537. Residential/img1920_64.jpg- Pred: 9: SeaLake\n",
            "538. Residential/img1920_640.jpg- Pred: 2: HerbaceousVegetation\n",
            "539. Residential/img1920_704.jpg- Pred: 2: HerbaceousVegetation\n",
            "540. Residential/img1920_768.jpg- Pred: 2: HerbaceousVegetation\n",
            "541. Residential/img1920_832.jpg- Pred: 2: HerbaceousVegetation\n",
            "542. Residential/img1920_896.jpg- Pred: 2: HerbaceousVegetation\n",
            "543. Residential/img1920_960.jpg- Pred: 2: HerbaceousVegetation\n",
            "544. Residential/img192_0.jpg- Pred: 2: HerbaceousVegetation\n",
            "545. Residential/img192_1024.jpg- Pred: 6: River\n",
            "546. Residential/img192_1088.jpg- Pred: 2: HerbaceousVegetation\n",
            "547. Residential/img192_1152.jpg- Pred: 3: Industrial\n",
            "548. Residential/img192_1216.jpg- Pred: 2: HerbaceousVegetation\n",
            "549. Residential/img192_128.jpg- Pred: 2: HerbaceousVegetation\n",
            "550. Residential/img192_1280.jpg- Pred: 0: Highway\n",
            "551. Residential/img192_1344.jpg- Pred: 2: HerbaceousVegetation\n",
            "552. Residential/img192_1408.jpg- Pred: 2: HerbaceousVegetation\n",
            "553. Residential/img192_1472.jpg- Pred: 2: HerbaceousVegetation\n",
            "554. Residential/img192_1536.jpg- Pred: 2: HerbaceousVegetation\n",
            "555. Residential/img192_1600.jpg- Pred: 5: PermanentCrop\n",
            "556. Residential/img192_1664.jpg- Pred: 5: PermanentCrop\n",
            "557. Residential/img192_1728.jpg- Pred: 5: PermanentCrop\n",
            "558. Residential/img192_1792.jpg- Pred: 0: Highway\n",
            "559. Residential/img192_1856.jpg- Pred: 2: HerbaceousVegetation\n",
            "560. Residential/img192_192.jpg- Pred: 2: HerbaceousVegetation\n",
            "561. Residential/img192_1920.jpg- Pred: 2: HerbaceousVegetation\n",
            "562. Residential/img192_1984.jpg- Pred: 2: HerbaceousVegetation\n",
            "563. Residential/img192_256.jpg- Pred: 2: HerbaceousVegetation\n",
            "564. Residential/img192_320.jpg- Pred: 2: HerbaceousVegetation\n",
            "565. Residential/img192_384.jpg- Pred: 2: HerbaceousVegetation\n",
            "566. Residential/img192_448.jpg- Pred: 2: HerbaceousVegetation\n",
            "567. Residential/img192_512.jpg- Pred: 2: HerbaceousVegetation\n",
            "568. Residential/img192_576.jpg- Pred: 2: HerbaceousVegetation\n",
            "569. Residential/img192_64.jpg- Pred: 2: HerbaceousVegetation\n",
            "570. Residential/img192_640.jpg- Pred: 0: Highway\n",
            "571. Residential/img192_704.jpg- Pred: 5: PermanentCrop\n",
            "572. Residential/img192_768.jpg- Pred: 5: PermanentCrop\n",
            "573. Residential/img192_832.jpg- Pred: 5: PermanentCrop\n",
            "574. Residential/img192_896.jpg- Pred: 7: Pasture\n",
            "575. Residential/img192_960.jpg- Pred: 0: Highway\n",
            "576. Residential/img1984_0.jpg- Pred: 0: Highway\n",
            "577. Residential/img1984_1024.jpg- Pred: 2: HerbaceousVegetation\n",
            "578. Residential/img1984_1088.jpg- Pred: 2: HerbaceousVegetation\n",
            "579. Residential/img1984_1152.jpg- Pred: 2: HerbaceousVegetation\n",
            "580. Residential/img1984_1216.jpg- Pred: 2: HerbaceousVegetation\n",
            "581. Residential/img1984_128.jpg- Pred: 2: HerbaceousVegetation\n",
            "582. Residential/img1984_1280.jpg- Pred: 6: River\n",
            "583. Residential/img1984_1344.jpg- Pred: 2: HerbaceousVegetation\n",
            "584. Residential/img1984_1408.jpg- Pred: 2: HerbaceousVegetation\n",
            "585. Residential/img1984_1472.jpg- Pred: 0: Highway\n",
            "586. Residential/img1984_1536.jpg- Pred: 2: HerbaceousVegetation\n",
            "587. Residential/img1984_1600.jpg- Pred: 2: HerbaceousVegetation\n",
            "588. Residential/img1984_1664.jpg- Pred: 2: HerbaceousVegetation\n",
            "589. Residential/img1984_1728.jpg- Pred: 2: HerbaceousVegetation\n",
            "590. Residential/img1984_1792.jpg- Pred: 2: HerbaceousVegetation\n",
            "591. Residential/img1984_1856.jpg- Pred: 2: HerbaceousVegetation\n",
            "592. Residential/img1984_192.jpg- Pred: 2: HerbaceousVegetation\n",
            "593. Residential/img1984_1920.jpg- Pred: 2: HerbaceousVegetation\n",
            "594. Residential/img1984_1984.jpg- Pred: 2: HerbaceousVegetation\n",
            "595. Residential/img1984_256.jpg- Pred: 2: HerbaceousVegetation\n",
            "596. Residential/img1984_320.jpg- Pred: 0: Highway\n",
            "597. Residential/img1984_384.jpg- Pred: 3: Industrial\n",
            "598. Residential/img1984_448.jpg- Pred: 2: HerbaceousVegetation\n",
            "599. Residential/img1984_512.jpg- Pred: 2: HerbaceousVegetation\n",
            "600. Residential/img1984_576.jpg- Pred: 2: HerbaceousVegetation\n",
            "601. Residential/img1984_64.jpg- Pred: 0: Highway\n",
            "602. Residential/img1984_640.jpg- Pred: 2: HerbaceousVegetation\n",
            "603. Residential/img1984_704.jpg- Pred: 2: HerbaceousVegetation\n",
            "604. Residential/img1984_768.jpg- Pred: 2: HerbaceousVegetation\n",
            "605. Residential/img1984_832.jpg- Pred: 2: HerbaceousVegetation\n",
            "606. Residential/img1984_896.jpg- Pred: 2: HerbaceousVegetation\n",
            "607. Residential/img1984_960.jpg- Pred: 2: HerbaceousVegetation\n",
            "608. Residential/img256_0.jpg- Pred: 8: Forest\n",
            "609. Residential/img256_1024.jpg- Pred: 2: HerbaceousVegetation\n",
            "610. Residential/img256_1088.jpg- Pred: 2: HerbaceousVegetation\n",
            "611. Residential/img256_1152.jpg- Pred: 1: AnnualCrop\n",
            "612. Residential/img256_1216.jpg- Pred: 2: HerbaceousVegetation\n",
            "613. Residential/img256_128.jpg- Pred: 8: Forest\n",
            "614. Residential/img256_1280.jpg- Pred: 1: AnnualCrop\n",
            "615. Residential/img256_1344.jpg- Pred: 2: HerbaceousVegetation\n",
            "616. Residential/img256_1408.jpg- Pred: 6: River\n",
            "617. Residential/img256_1472.jpg- Pred: 7: Pasture\n",
            "618. Residential/img256_1536.jpg- Pred: 6: River\n",
            "619. Residential/img256_1600.jpg- Pred: 6: River\n",
            "620. Residential/img256_1664.jpg- Pred: 2: HerbaceousVegetation\n",
            "621. Residential/img256_1728.jpg- Pred: 5: PermanentCrop\n",
            "622. Residential/img256_1792.jpg- Pred: 5: PermanentCrop\n",
            "623. Residential/img256_1856.jpg- Pred: 4: Residential\n",
            "624. Residential/img256_192.jpg- Pred: 2: HerbaceousVegetation\n",
            "625. Residential/img256_1920.jpg- Pred: 2: HerbaceousVegetation\n",
            "626. Residential/img256_1984.jpg- Pred: 2: HerbaceousVegetation\n",
            "627. Residential/img256_256.jpg- Pred: 2: HerbaceousVegetation\n",
            "628. Residential/img256_320.jpg- Pred: 2: HerbaceousVegetation\n",
            "629. Residential/img256_384.jpg- Pred: 2: HerbaceousVegetation\n",
            "630. Residential/img256_448.jpg- Pred: 2: HerbaceousVegetation\n",
            "631. Residential/img256_512.jpg- Pred: 2: HerbaceousVegetation\n",
            "632. Residential/img256_576.jpg- Pred: 2: HerbaceousVegetation\n",
            "633. Residential/img256_64.jpg- Pred: 6: River\n",
            "634. Residential/img256_640.jpg- Pred: 5: PermanentCrop\n",
            "635. Residential/img256_704.jpg- Pred: 7: Pasture\n",
            "636. Residential/img256_768.jpg- Pred: 2: HerbaceousVegetation\n",
            "637. Residential/img256_832.jpg- Pred: 2: HerbaceousVegetation\n",
            "638. Residential/img256_896.jpg- Pred: 7: Pasture\n",
            "639. Residential/img256_960.jpg- Pred: 2: HerbaceousVegetation\n",
            "640. Residential/img320_0.jpg- Pred: 2: HerbaceousVegetation\n",
            "641. Residential/img320_1024.jpg- Pred: 2: HerbaceousVegetation\n",
            "642. Residential/img320_1088.jpg- Pred: 2: HerbaceousVegetation\n",
            "643. Residential/img320_1152.jpg- Pred: 2: HerbaceousVegetation\n",
            "644. Residential/img320_1216.jpg- Pred: 3: Industrial\n",
            "645. Residential/img320_128.jpg- Pred: 8: Forest\n",
            "646. Residential/img320_1280.jpg- Pred: 0: Highway\n",
            "647. Residential/img320_1344.jpg- Pred: 6: River\n",
            "648. Residential/img320_1408.jpg- Pred: 3: Industrial\n",
            "649. Residential/img320_1472.jpg- Pred: 3: Industrial\n",
            "650. Residential/img320_1536.jpg- Pred: 2: HerbaceousVegetation\n",
            "651. Residential/img320_1600.jpg- Pred: 9: SeaLake\n",
            "652. Residential/img320_1664.jpg- Pred: 2: HerbaceousVegetation\n",
            "653. Residential/img320_1728.jpg- Pred: 5: PermanentCrop\n",
            "654. Residential/img320_1792.jpg- Pred: 4: Residential\n",
            "655. Residential/img320_1856.jpg- Pred: 3: Industrial\n",
            "656. Residential/img320_192.jpg- Pred: 2: HerbaceousVegetation\n",
            "657. Residential/img320_1920.jpg- Pred: 2: HerbaceousVegetation\n",
            "658. Residential/img320_1984.jpg- Pred: 2: HerbaceousVegetation\n",
            "659. Residential/img320_256.jpg- Pred: 8: Forest\n",
            "660. Residential/img320_320.jpg- Pred: 8: Forest\n",
            "661. Residential/img320_384.jpg- Pred: 7: Pasture\n",
            "662. Residential/img320_448.jpg- Pred: 2: HerbaceousVegetation\n",
            "663. Residential/img320_512.jpg- Pred: 7: Pasture\n",
            "664. Residential/img320_576.jpg- Pred: 0: Highway\n",
            "665. Residential/img320_64.jpg- Pred: 2: HerbaceousVegetation\n",
            "666. Residential/img320_640.jpg- Pred: 5: PermanentCrop\n",
            "667. Residential/img320_704.jpg- Pred: 5: PermanentCrop\n",
            "668. Residential/img320_768.jpg- Pred: 5: PermanentCrop\n",
            "669. Residential/img320_832.jpg- Pred: 2: HerbaceousVegetation\n",
            "670. Residential/img320_896.jpg- Pred: 2: HerbaceousVegetation\n",
            "671. Residential/img320_960.jpg- Pred: 2: HerbaceousVegetation\n",
            "672. Residential/img384_0.jpg- Pred: 2: HerbaceousVegetation\n",
            "673. Residential/img384_1024.jpg- Pred: 2: HerbaceousVegetation\n",
            "674. Residential/img384_1088.jpg- Pred: 2: HerbaceousVegetation\n",
            "675. Residential/img384_1152.jpg- Pred: 2: HerbaceousVegetation\n",
            "676. Residential/img384_1216.jpg- Pred: 5: PermanentCrop\n",
            "677. Residential/img384_128.jpg- Pred: 2: HerbaceousVegetation\n",
            "678. Residential/img384_1280.jpg- Pred: 2: HerbaceousVegetation\n",
            "679. Residential/img384_1344.jpg- Pred: 2: HerbaceousVegetation\n",
            "680. Residential/img384_1408.jpg- Pred: 6: River\n",
            "681. Residential/img384_1472.jpg- Pred: 0: Highway\n",
            "682. Residential/img384_1536.jpg- Pred: 0: Highway\n",
            "683. Residential/img384_1600.jpg- Pred: 2: HerbaceousVegetation\n",
            "684. Residential/img384_1664.jpg- Pred: 2: HerbaceousVegetation\n",
            "685. Residential/img384_1728.jpg- Pred: 2: HerbaceousVegetation\n",
            "686. Residential/img384_1792.jpg- Pred: 2: HerbaceousVegetation\n",
            "687. Residential/img384_1856.jpg- Pred: 2: HerbaceousVegetation\n",
            "688. Residential/img384_192.jpg- Pred: 2: HerbaceousVegetation\n",
            "689. Residential/img384_1920.jpg- Pred: 2: HerbaceousVegetation\n",
            "690. Residential/img384_1984.jpg- Pred: 2: HerbaceousVegetation\n",
            "691. Residential/img384_256.jpg- Pred: 2: HerbaceousVegetation\n",
            "692. Residential/img384_320.jpg- Pred: 8: Forest\n",
            "693. Residential/img384_384.jpg- Pred: 7: Pasture\n",
            "694. Residential/img384_448.jpg- Pred: 8: Forest\n",
            "695. Residential/img384_512.jpg- Pred: 2: HerbaceousVegetation\n",
            "696. Residential/img384_576.jpg- Pred: 2: HerbaceousVegetation\n",
            "697. Residential/img384_64.jpg- Pred: 2: HerbaceousVegetation\n",
            "698. Residential/img384_640.jpg- Pred: 0: Highway\n",
            "699. Residential/img384_704.jpg- Pred: 7: Pasture\n",
            "700. Residential/img384_768.jpg- Pred: 2: HerbaceousVegetation\n",
            "701. Residential/img384_832.jpg- Pred: 2: HerbaceousVegetation\n",
            "702. Residential/img384_896.jpg- Pred: 2: HerbaceousVegetation\n",
            "703. Residential/img384_960.jpg- Pred: 2: HerbaceousVegetation\n",
            "704. Residential/img448_0.jpg- Pred: 8: Forest\n",
            "705. Residential/img448_1024.jpg- Pred: 2: HerbaceousVegetation\n",
            "706. Residential/img448_1088.jpg- Pred: 5: PermanentCrop\n",
            "707. Residential/img448_1152.jpg- Pred: 5: PermanentCrop\n",
            "708. Residential/img448_1216.jpg- Pred: 5: PermanentCrop\n",
            "709. Residential/img448_128.jpg- Pred: 0: Highway\n",
            "710. Residential/img448_1280.jpg- Pred: 2: HerbaceousVegetation\n",
            "711. Residential/img448_1344.jpg- Pred: 2: HerbaceousVegetation\n",
            "712. Residential/img448_1408.jpg- Pred: 2: HerbaceousVegetation\n",
            "713. Residential/img448_1472.jpg- Pred: 2: HerbaceousVegetation\n",
            "714. Residential/img448_1536.jpg- Pred: 2: HerbaceousVegetation\n",
            "715. Residential/img448_1600.jpg- Pred: 6: River\n",
            "716. Residential/img448_1664.jpg- Pred: 2: HerbaceousVegetation\n",
            "717. Residential/img448_1728.jpg- Pred: 5: PermanentCrop\n",
            "718. Residential/img448_1792.jpg- Pred: 6: River\n",
            "719. Residential/img448_1856.jpg- Pred: 2: HerbaceousVegetation\n",
            "720. Residential/img448_192.jpg- Pred: 2: HerbaceousVegetation\n",
            "721. Residential/img448_1920.jpg- Pred: 2: HerbaceousVegetation\n",
            "722. Residential/img448_1984.jpg- Pred: 2: HerbaceousVegetation\n",
            "723. Residential/img448_256.jpg- Pred: 2: HerbaceousVegetation\n",
            "724. Residential/img448_320.jpg- Pred: 2: HerbaceousVegetation\n",
            "725. Residential/img448_384.jpg- Pred: 2: HerbaceousVegetation\n",
            "726. Residential/img448_448.jpg- Pred: 2: HerbaceousVegetation\n",
            "727. Residential/img448_512.jpg- Pred: 2: HerbaceousVegetation\n",
            "728. Residential/img448_576.jpg- Pred: 2: HerbaceousVegetation\n",
            "729. Residential/img448_64.jpg- Pred: 0: Highway\n",
            "730. Residential/img448_640.jpg- Pred: 0: Highway\n",
            "731. Residential/img448_704.jpg- Pred: 5: PermanentCrop\n",
            "732. Residential/img448_768.jpg- Pred: 0: Highway\n",
            "733. Residential/img448_832.jpg- Pred: 2: HerbaceousVegetation\n",
            "734. Residential/img448_896.jpg- Pred: 2: HerbaceousVegetation\n",
            "735. Residential/img448_960.jpg- Pred: 2: HerbaceousVegetation\n",
            "736. Residential/img512_0.jpg- Pred: 8: Forest\n",
            "737. Residential/img512_1024.jpg- Pred: 5: PermanentCrop\n",
            "738. Residential/img512_1088.jpg- Pred: 0: Highway\n",
            "739. Residential/img512_1152.jpg- Pred: 5: PermanentCrop\n",
            "740. Residential/img512_1216.jpg- Pred: 0: Highway\n",
            "741. Residential/img512_128.jpg- Pred: 7: Pasture\n",
            "742. Residential/img512_1280.jpg- Pred: 2: HerbaceousVegetation\n",
            "743. Residential/img512_1344.jpg- Pred: 2: HerbaceousVegetation\n",
            "744. Residential/img512_1408.jpg- Pred: 2: HerbaceousVegetation\n",
            "745. Residential/img512_1472.jpg- Pred: 2: HerbaceousVegetation\n",
            "746. Residential/img512_1536.jpg- Pred: 2: HerbaceousVegetation\n",
            "747. Residential/img512_1600.jpg- Pred: 2: HerbaceousVegetation\n",
            "748. Residential/img512_1664.jpg- Pred: 4: Residential\n",
            "749. Residential/img512_1728.jpg- Pred: 2: HerbaceousVegetation\n",
            "750. Residential/img512_1792.jpg- Pred: 5: PermanentCrop\n",
            "751. Residential/img512_1856.jpg- Pred: 4: Residential\n",
            "752. Residential/img512_192.jpg- Pred: 2: HerbaceousVegetation\n",
            "753. Residential/img512_1920.jpg- Pred: 4: Residential\n",
            "754. Residential/img512_1984.jpg- Pred: 2: HerbaceousVegetation\n",
            "755. Residential/img512_256.jpg- Pred: 8: Forest\n",
            "756. Residential/img512_320.jpg- Pred: 2: HerbaceousVegetation\n",
            "757. Residential/img512_384.jpg- Pred: 2: HerbaceousVegetation\n",
            "758. Residential/img512_448.jpg- Pred: 2: HerbaceousVegetation\n",
            "759. Residential/img512_512.jpg- Pred: 2: HerbaceousVegetation\n",
            "760. Residential/img512_576.jpg- Pred: 2: HerbaceousVegetation\n",
            "761. Residential/img512_64.jpg- Pred: 8: Forest\n",
            "762. Residential/img512_640.jpg- Pred: 2: HerbaceousVegetation\n",
            "763. Residential/img512_704.jpg- Pred: 2: HerbaceousVegetation\n",
            "764. Residential/img512_768.jpg- Pred: 0: Highway\n",
            "765. Residential/img512_832.jpg- Pred: 1: AnnualCrop\n",
            "766. Residential/img512_896.jpg- Pred: 5: PermanentCrop\n",
            "767. Residential/img512_960.jpg- Pred: 7: Pasture\n",
            "768. Residential/img576_0.jpg- Pred: 8: Forest\n",
            "769. Residential/img576_1024.jpg- Pred: 7: Pasture\n",
            "770. Residential/img576_1088.jpg- Pred: 5: PermanentCrop\n",
            "771. Residential/img576_1152.jpg- Pred: 5: PermanentCrop\n",
            "772. Residential/img576_1216.jpg- Pred: 0: Highway\n",
            "773. Residential/img576_128.jpg- Pred: 8: Forest\n",
            "774. Residential/img576_1280.jpg- Pred: 2: HerbaceousVegetation\n",
            "775. Residential/img576_1344.jpg- Pred: 2: HerbaceousVegetation\n",
            "776. Residential/img576_1408.jpg- Pred: 2: HerbaceousVegetation\n",
            "777. Residential/img576_1472.jpg- Pred: 2: HerbaceousVegetation\n",
            "778. Residential/img576_1536.jpg- Pred: 2: HerbaceousVegetation\n",
            "779. Residential/img576_1600.jpg- Pred: 2: HerbaceousVegetation\n",
            "780. Residential/img576_1664.jpg- Pred: 5: PermanentCrop\n",
            "781. Residential/img576_1728.jpg- Pred: 4: Residential\n",
            "782. Residential/img576_1792.jpg- Pred: 2: HerbaceousVegetation\n",
            "783. Residential/img576_1856.jpg- Pred: 3: Industrial\n",
            "784. Residential/img576_192.jpg- Pred: 2: HerbaceousVegetation\n",
            "785. Residential/img576_1920.jpg- Pred: 0: Highway\n",
            "786. Residential/img576_1984.jpg- Pred: 5: PermanentCrop\n",
            "787. Residential/img576_256.jpg- Pred: 0: Highway\n",
            "788. Residential/img576_320.jpg- Pred: 2: HerbaceousVegetation\n",
            "789. Residential/img576_384.jpg- Pred: 2: HerbaceousVegetation\n",
            "790. Residential/img576_448.jpg- Pred: 2: HerbaceousVegetation\n",
            "791. Residential/img576_512.jpg- Pred: 2: HerbaceousVegetation\n",
            "792. Residential/img576_576.jpg- Pred: 2: HerbaceousVegetation\n",
            "793. Residential/img576_64.jpg- Pred: 7: Pasture\n",
            "794. Residential/img576_640.jpg- Pred: 2: HerbaceousVegetation\n",
            "795. Residential/img576_704.jpg- Pred: 2: HerbaceousVegetation\n",
            "796. Residential/img576_768.jpg- Pred: 1: AnnualCrop\n",
            "797. Residential/img576_832.jpg- Pred: 1: AnnualCrop\n",
            "798. Residential/img576_896.jpg- Pred: 1: AnnualCrop\n",
            "799. Residential/img576_960.jpg- Pred: 1: AnnualCrop\n",
            "800. Residential/img640_0.jpg- Pred: 2: HerbaceousVegetation\n",
            "801. Residential/img640_1024.jpg- Pred: 7: Pasture\n",
            "802. Residential/img640_1088.jpg- Pred: 0: Highway\n",
            "803. Residential/img640_1152.jpg- Pred: 5: PermanentCrop\n",
            "804. Residential/img640_1216.jpg- Pred: 5: PermanentCrop\n",
            "805. Residential/img640_128.jpg- Pred: 8: Forest\n",
            "806. Residential/img640_1280.jpg- Pred: 0: Highway\n",
            "807. Residential/img640_1344.jpg- Pred: 2: HerbaceousVegetation\n",
            "808. Residential/img640_1408.jpg- Pred: 2: HerbaceousVegetation\n",
            "809. Residential/img640_1472.jpg- Pred: 2: HerbaceousVegetation\n",
            "810. Residential/img640_1536.jpg- Pred: 4: Residential\n",
            "811. Residential/img640_1600.jpg- Pred: 2: HerbaceousVegetation\n",
            "812. Residential/img640_1664.jpg- Pred: 2: HerbaceousVegetation\n",
            "813. Residential/img640_1728.jpg- Pred: 4: Residential\n",
            "814. Residential/img640_1792.jpg- Pred: 4: Residential\n",
            "815. Residential/img640_1856.jpg- Pred: 3: Industrial\n",
            "816. Residential/img640_192.jpg- Pred: 2: HerbaceousVegetation\n",
            "817. Residential/img640_1920.jpg- Pred: 4: Residential\n",
            "818. Residential/img640_1984.jpg- Pred: 5: PermanentCrop\n",
            "819. Residential/img640_256.jpg- Pred: 2: HerbaceousVegetation\n",
            "820. Residential/img640_320.jpg- Pred: 2: HerbaceousVegetation\n",
            "821. Residential/img640_384.jpg- Pred: 8: Forest\n",
            "822. Residential/img640_448.jpg- Pred: 2: HerbaceousVegetation\n",
            "823. Residential/img640_512.jpg- Pred: 2: HerbaceousVegetation\n",
            "824. Residential/img640_576.jpg- Pred: 2: HerbaceousVegetation\n",
            "825. Residential/img640_64.jpg- Pred: 2: HerbaceousVegetation\n",
            "826. Residential/img640_640.jpg- Pred: 2: HerbaceousVegetation\n",
            "827. Residential/img640_704.jpg- Pred: 0: Highway\n",
            "828. Residential/img640_768.jpg- Pred: 7: Pasture\n",
            "829. Residential/img640_832.jpg- Pred: 1: AnnualCrop\n",
            "830. Residential/img640_896.jpg- Pred: 1: AnnualCrop\n",
            "831. Residential/img640_960.jpg- Pred: 6: River\n",
            "832. Residential/img64_0.jpg- Pred: 2: HerbaceousVegetation\n",
            "833. Residential/img64_1024.jpg- Pred: 7: Pasture\n",
            "834. Residential/img64_1088.jpg- Pred: 2: HerbaceousVegetation\n",
            "835. Residential/img64_1152.jpg- Pred: 2: HerbaceousVegetation\n",
            "836. Residential/img64_1216.jpg- Pred: 2: HerbaceousVegetation\n",
            "837. Residential/img64_128.jpg- Pred: 2: HerbaceousVegetation\n",
            "838. Residential/img64_1280.jpg- Pred: 2: HerbaceousVegetation\n",
            "839. Residential/img64_1344.jpg- Pred: 2: HerbaceousVegetation\n",
            "840. Residential/img64_1408.jpg- Pred: 2: HerbaceousVegetation\n",
            "841. Residential/img64_1472.jpg- Pred: 2: HerbaceousVegetation\n",
            "842. Residential/img64_1536.jpg- Pred: 5: PermanentCrop\n",
            "843. Residential/img64_1600.jpg- Pred: 3: Industrial\n",
            "844. Residential/img64_1664.jpg- Pred: 5: PermanentCrop\n",
            "845. Residential/img64_1728.jpg- Pred: 4: Residential\n",
            "846. Residential/img64_1792.jpg- Pred: 4: Residential\n",
            "847. Residential/img64_1856.jpg- Pred: 2: HerbaceousVegetation\n",
            "848. Residential/img64_192.jpg- Pred: 2: HerbaceousVegetation\n",
            "849. Residential/img64_1920.jpg- Pred: 2: HerbaceousVegetation\n",
            "850. Residential/img64_1984.jpg- Pred: 2: HerbaceousVegetation\n",
            "851. Residential/img64_256.jpg- Pred: 2: HerbaceousVegetation\n",
            "852. Residential/img64_320.jpg- Pred: 2: HerbaceousVegetation\n",
            "853. Residential/img64_384.jpg- Pred: 2: HerbaceousVegetation\n",
            "854. Residential/img64_448.jpg- Pred: 2: HerbaceousVegetation\n",
            "855. Residential/img64_512.jpg- Pred: 2: HerbaceousVegetation\n",
            "856. Residential/img64_576.jpg- Pred: 7: Pasture\n",
            "857. Residential/img64_64.jpg- Pred: 2: HerbaceousVegetation\n",
            "858. Residential/img64_640.jpg- Pred: 0: Highway\n",
            "859. Residential/img64_704.jpg- Pred: 7: Pasture\n",
            "860. Residential/img64_768.jpg- Pred: 2: HerbaceousVegetation\n",
            "861. Residential/img64_832.jpg- Pred: 0: Highway\n",
            "862. Residential/img64_896.jpg- Pred: 2: HerbaceousVegetation\n",
            "863. Residential/img64_960.jpg- Pred: 2: HerbaceousVegetation\n",
            "864. Residential/img704_0.jpg- Pred: 8: Forest\n",
            "865. Residential/img704_1024.jpg- Pred: 2: HerbaceousVegetation\n",
            "866. Residential/img704_1088.jpg- Pred: 2: HerbaceousVegetation\n",
            "867. Residential/img704_1152.jpg- Pred: 5: PermanentCrop\n",
            "868. Residential/img704_1216.jpg- Pred: 5: PermanentCrop\n",
            "869. Residential/img704_128.jpg- Pred: 2: HerbaceousVegetation\n",
            "870. Residential/img704_1280.jpg- Pred: 5: PermanentCrop\n",
            "871. Residential/img704_1344.jpg- Pred: 2: HerbaceousVegetation\n",
            "872. Residential/img704_1408.jpg- Pred: 2: HerbaceousVegetation\n",
            "873. Residential/img704_1472.jpg- Pred: 2: HerbaceousVegetation\n",
            "874. Residential/img704_1536.jpg- Pred: 2: HerbaceousVegetation\n",
            "875. Residential/img704_1600.jpg- Pred: 8: Forest\n",
            "876. Residential/img704_1664.jpg- Pred: 2: HerbaceousVegetation\n",
            "877. Residential/img704_1728.jpg- Pred: 4: Residential\n",
            "878. Residential/img704_1792.jpg- Pred: 5: PermanentCrop\n",
            "879. Residential/img704_1856.jpg- Pred: 3: Industrial\n",
            "880. Residential/img704_192.jpg- Pred: 2: HerbaceousVegetation\n",
            "881. Residential/img704_1920.jpg- Pred: 5: PermanentCrop\n",
            "882. Residential/img704_1984.jpg- Pred: 2: HerbaceousVegetation\n",
            "883. Residential/img704_256.jpg- Pred: 2: HerbaceousVegetation\n",
            "884. Residential/img704_320.jpg- Pred: 2: HerbaceousVegetation\n",
            "885. Residential/img704_384.jpg- Pred: 2: HerbaceousVegetation\n",
            "886. Residential/img704_448.jpg- Pred: 2: HerbaceousVegetation\n",
            "887. Residential/img704_512.jpg- Pred: 2: HerbaceousVegetation\n",
            "888. Residential/img704_576.jpg- Pred: 2: HerbaceousVegetation\n",
            "889. Residential/img704_64.jpg- Pred: 8: Forest\n",
            "890. Residential/img704_640.jpg- Pred: 2: HerbaceousVegetation\n",
            "891. Residential/img704_704.jpg- Pred: 2: HerbaceousVegetation\n",
            "892. Residential/img704_768.jpg- Pred: 2: HerbaceousVegetation\n",
            "893. Residential/img704_832.jpg- Pred: 0: Highway\n",
            "894. Residential/img704_896.jpg- Pred: 2: HerbaceousVegetation\n",
            "895. Residential/img704_960.jpg- Pred: 2: HerbaceousVegetation\n",
            "896. Residential/img768_0.jpg- Pred: 2: HerbaceousVegetation\n",
            "897. Residential/img768_1024.jpg- Pred: 2: HerbaceousVegetation\n",
            "898. Residential/img768_1088.jpg- Pred: 2: HerbaceousVegetation\n",
            "899. Residential/img768_1152.jpg- Pred: 6: River\n",
            "900. Residential/img768_1216.jpg- Pred: 5: PermanentCrop\n",
            "901. Residential/img768_128.jpg- Pred: 7: Pasture\n",
            "902. Residential/img768_1280.jpg- Pred: 5: PermanentCrop\n",
            "903. Residential/img768_1344.jpg- Pred: 7: Pasture\n",
            "904. Residential/img768_1408.jpg- Pred: 2: HerbaceousVegetation\n",
            "905. Residential/img768_1472.jpg- Pred: 2: HerbaceousVegetation\n",
            "906. Residential/img768_1536.jpg- Pred: 2: HerbaceousVegetation\n",
            "907. Residential/img768_1600.jpg- Pred: 2: HerbaceousVegetation\n",
            "908. Residential/img768_1664.jpg- Pred: 2: HerbaceousVegetation\n",
            "909. Residential/img768_1728.jpg- Pred: 4: Residential\n",
            "910. Residential/img768_1792.jpg- Pred: 3: Industrial\n",
            "911. Residential/img768_1856.jpg- Pred: 4: Residential\n",
            "912. Residential/img768_192.jpg- Pred: 0: Highway\n",
            "913. Residential/img768_1920.jpg- Pred: 5: PermanentCrop\n",
            "914. Residential/img768_1984.jpg- Pred: 3: Industrial\n",
            "915. Residential/img768_256.jpg- Pred: 2: HerbaceousVegetation\n",
            "916. Residential/img768_320.jpg- Pred: 2: HerbaceousVegetation\n",
            "917. Residential/img768_384.jpg- Pred: 2: HerbaceousVegetation\n",
            "918. Residential/img768_448.jpg- Pred: 2: HerbaceousVegetation\n",
            "919. Residential/img768_512.jpg- Pred: 2: HerbaceousVegetation\n",
            "920. Residential/img768_576.jpg- Pred: 2: HerbaceousVegetation\n",
            "921. Residential/img768_64.jpg- Pred: 2: HerbaceousVegetation\n",
            "922. Residential/img768_640.jpg- Pred: 2: HerbaceousVegetation\n",
            "923. Residential/img768_704.jpg- Pred: 2: HerbaceousVegetation\n",
            "924. Residential/img768_768.jpg- Pred: 7: Pasture\n",
            "925. Residential/img768_832.jpg- Pred: 7: Pasture\n",
            "926. Residential/img768_896.jpg- Pred: 2: HerbaceousVegetation\n",
            "927. Residential/img768_960.jpg- Pred: 2: HerbaceousVegetation\n",
            "928. Residential/img832_0.jpg- Pred: 2: HerbaceousVegetation\n",
            "929. Residential/img832_1024.jpg- Pred: 9: SeaLake\n",
            "930. Residential/img832_1088.jpg- Pred: 0: Highway\n",
            "931. Residential/img832_1152.jpg- Pred: 6: River\n",
            "932. Residential/img832_1216.jpg- Pred: 1: AnnualCrop\n",
            "933. Residential/img832_128.jpg- Pred: 0: Highway\n",
            "934. Residential/img832_1280.jpg- Pred: 5: PermanentCrop\n",
            "935. Residential/img832_1344.jpg- Pred: 6: River\n",
            "936. Residential/img832_1408.jpg- Pred: 2: HerbaceousVegetation\n",
            "937. Residential/img832_1472.jpg- Pred: 2: HerbaceousVegetation\n",
            "938. Residential/img832_1536.jpg- Pred: 2: HerbaceousVegetation\n",
            "939. Residential/img832_1600.jpg- Pred: 2: HerbaceousVegetation\n",
            "940. Residential/img832_1664.jpg- Pred: 2: HerbaceousVegetation\n",
            "941. Residential/img832_1728.jpg- Pred: 5: PermanentCrop\n",
            "942. Residential/img832_1792.jpg- Pred: 5: PermanentCrop\n",
            "943. Residential/img832_1856.jpg- Pred: 5: PermanentCrop\n",
            "944. Residential/img832_192.jpg- Pred: 6: River\n",
            "945. Residential/img832_1920.jpg- Pred: 4: Residential\n",
            "946. Residential/img832_1984.jpg- Pred: 5: PermanentCrop\n",
            "947. Residential/img832_256.jpg- Pred: 2: HerbaceousVegetation\n",
            "948. Residential/img832_320.jpg- Pred: 2: HerbaceousVegetation\n",
            "949. Residential/img832_384.jpg- Pred: 2: HerbaceousVegetation\n",
            "950. Residential/img832_448.jpg- Pred: 2: HerbaceousVegetation\n",
            "951. Residential/img832_512.jpg- Pred: 2: HerbaceousVegetation\n",
            "952. Residential/img832_576.jpg- Pred: 2: HerbaceousVegetation\n",
            "953. Residential/img832_64.jpg- Pred: 7: Pasture\n",
            "954. Residential/img832_640.jpg- Pred: 2: HerbaceousVegetation\n",
            "955. Residential/img832_704.jpg- Pred: 2: HerbaceousVegetation\n",
            "956. Residential/img832_768.jpg- Pred: 2: HerbaceousVegetation\n",
            "957. Residential/img832_832.jpg- Pred: 2: HerbaceousVegetation\n",
            "958. Residential/img832_896.jpg- Pred: 2: HerbaceousVegetation\n",
            "959. Residential/img832_960.jpg- Pred: 2: HerbaceousVegetation\n",
            "960. Residential/img896_0.jpg- Pred: 2: HerbaceousVegetation\n",
            "961. Residential/img896_1024.jpg- Pred: 2: HerbaceousVegetation\n",
            "962. Residential/img896_1088.jpg- Pred: 2: HerbaceousVegetation\n",
            "963. Residential/img896_1152.jpg- Pred: 5: PermanentCrop\n",
            "964. Residential/img896_1216.jpg- Pred: 5: PermanentCrop\n",
            "965. Residential/img896_128.jpg- Pred: 6: River\n",
            "966. Residential/img896_1280.jpg- Pred: 0: Highway\n",
            "967. Residential/img896_1344.jpg- Pred: 0: Highway\n",
            "968. Residential/img896_1408.jpg- Pred: 2: HerbaceousVegetation\n",
            "969. Residential/img896_1472.jpg- Pred: 2: HerbaceousVegetation\n",
            "970. Residential/img896_1536.jpg- Pred: 2: HerbaceousVegetation\n",
            "971. Residential/img896_1600.jpg- Pred: 2: HerbaceousVegetation\n",
            "972. Residential/img896_1664.jpg- Pred: 2: HerbaceousVegetation\n",
            "973. Residential/img896_1728.jpg- Pred: 4: Residential\n",
            "974. Residential/img896_1792.jpg- Pred: 5: PermanentCrop\n",
            "975. Residential/img896_1856.jpg- Pred: 5: PermanentCrop\n",
            "976. Residential/img896_192.jpg- Pred: 2: HerbaceousVegetation\n",
            "977. Residential/img896_1920.jpg- Pred: 0: Highway\n",
            "978. Residential/img896_1984.jpg- Pred: 0: Highway\n",
            "979. Residential/img896_256.jpg- Pred: 0: Highway\n",
            "980. Residential/img896_320.jpg- Pred: 2: HerbaceousVegetation\n",
            "981. Residential/img896_384.jpg- Pred: 7: Pasture\n",
            "982. Residential/img896_448.jpg- Pred: 2: HerbaceousVegetation\n",
            "983. Residential/img896_512.jpg- Pred: 8: Forest\n",
            "984. Residential/img896_576.jpg- Pred: 2: HerbaceousVegetation\n",
            "985. Residential/img896_64.jpg- Pred: 2: HerbaceousVegetation\n",
            "986. Residential/img896_640.jpg- Pred: 2: HerbaceousVegetation\n",
            "987. Residential/img896_704.jpg- Pred: 2: HerbaceousVegetation\n",
            "988. Residential/img896_768.jpg- Pred: 2: HerbaceousVegetation\n",
            "989. Residential/img896_832.jpg- Pred: 2: HerbaceousVegetation\n",
            "990. Residential/img896_896.jpg- Pred: 2: HerbaceousVegetation\n",
            "991. Residential/img896_960.jpg- Pred: 2: HerbaceousVegetation\n",
            "992. Residential/img960_0.jpg- Pred: 2: HerbaceousVegetation\n",
            "993. Residential/img960_1024.jpg- Pred: 2: HerbaceousVegetation\n",
            "994. Residential/img960_1088.jpg- Pred: 0: Highway\n",
            "995. Residential/img960_1152.jpg- Pred: 0: Highway\n",
            "996. Residential/img960_1216.jpg- Pred: 1: AnnualCrop\n",
            "997. Residential/img960_128.jpg- Pred: 6: River\n",
            "998. Residential/img960_1280.jpg- Pred: 6: River\n",
            "999. Residential/img960_1344.jpg- Pred: 0: Highway\n",
            "1000. Residential/img960_1408.jpg- Pred: 2: HerbaceousVegetation\n",
            "1001. Residential/img960_1472.jpg- Pred: 2: HerbaceousVegetation\n",
            "1002. Residential/img960_1536.jpg- Pred: 6: River\n",
            "1003. Residential/img960_1600.jpg- Pred: 2: HerbaceousVegetation\n",
            "1004. Residential/img960_1664.jpg- Pred: 2: HerbaceousVegetation\n",
            "1005. Residential/img960_1728.jpg- Pred: 3: Industrial\n",
            "1006. Residential/img960_1792.jpg- Pred: 5: PermanentCrop\n",
            "1007. Residential/img960_1856.jpg- Pred: 5: PermanentCrop\n",
            "1008. Residential/img960_192.jpg- Pred: 2: HerbaceousVegetation\n",
            "1009. Residential/img960_1920.jpg- Pred: 5: PermanentCrop\n",
            "1010. Residential/img960_1984.jpg- Pred: 2: HerbaceousVegetation\n",
            "1011. Residential/img960_256.jpg- Pred: 2: HerbaceousVegetation\n",
            "1012. Residential/img960_320.jpg- Pred: 1: AnnualCrop\n",
            "1013. Residential/img960_384.jpg- Pred: 2: HerbaceousVegetation\n",
            "1014. Residential/img960_448.jpg- Pred: 6: River\n",
            "1015. Residential/img960_512.jpg- Pred: 6: River\n",
            "1016. Residential/img960_576.jpg- Pred: 2: HerbaceousVegetation\n",
            "1017. Residential/img960_64.jpg- Pred: 9: SeaLake\n",
            "1018. Residential/img960_640.jpg- Pred: 9: SeaLake\n",
            "1019. Residential/img960_704.jpg- Pred: 9: SeaLake\n",
            "1020. Residential/img960_768.jpg- Pred: 6: River\n",
            "1021. Residential/img960_832.jpg- Pred: 0: Highway\n",
            "1022. Residential/img960_896.jpg- Pred: 2: HerbaceousVegetation\n",
            "1023. Residential/img960_960.jpg- Pred: 2: HerbaceousVegetation\n"
          ],
          "name": "stdout"
        }
      ]
    },
    {
      "metadata": {
        "id": "TusLU-NyTSzK",
        "colab_type": "text"
      },
      "cell_type": "markdown",
      "source": [
        "# Siteler"
      ]
    },
    {
      "metadata": {
        "id": "9-trd0etTCik",
        "colab_type": "code",
        "outputId": "f0de109c-eedb-4458-e343-42660a936820",
        "colab": {
          "base_uri": "https://localhost:8080/",
          "height": 34
        }
      },
      "cell_type": "code",
      "source": [
        "siteler_generator = ImageDataGenerator().flow_from_directory(\n",
        "    'drive/My Drive/PhD/Data/Sat/siteler',\n",
        "    target_size=(img_width, img_height),\n",
        "    classes=\n",
        "    [\n",
        "        'Highway',\n",
        "        'AnnualCrop',\n",
        "        'HerbaceousVegetation',\n",
        "        'Industrial',\n",
        "        'Residential',\n",
        "        'PermanentCrop',\n",
        "        'River',\n",
        "        'Pasture',\n",
        "        'Forest',\n",
        "        'SeaLake'\n",
        "    ],\n",
        "    batch_size=batch_size,\n",
        "    shuffle=False,)"
      ],
      "execution_count": 0,
      "outputs": [
        {
          "output_type": "stream",
          "text": [
            "Found 21 images belonging to 10 classes.\n"
          ],
          "name": "stdout"
        }
      ]
    },
    {
      "metadata": {
        "id": "pUTZTcCEUPGS",
        "colab_type": "code",
        "colab": {}
      },
      "cell_type": "code",
      "source": [
        "siteler_pred = model.predict_generator(siteler_generator, steps=math.ceil(siteler_generator.samples / batch_size))"
      ],
      "execution_count": 0,
      "outputs": []
    },
    {
      "metadata": {
        "id": "q6xFUWSlhf4-",
        "colab_type": "code",
        "outputId": "9e074b70-022d-4082-e4d5-488ebbfcf04a",
        "colab": {
          "base_uri": "https://localhost:8080/",
          "height": 68
        }
      },
      "cell_type": "code",
      "source": [
        "siteler_pred[0]"
      ],
      "execution_count": 0,
      "outputs": [
        {
          "output_type": "execute_result",
          "data": {
            "text/plain": [
              "array([4.4296906e-04, 1.5280736e-16, 1.3828640e-04, 9.9941373e-01,\n",
              "       2.5311121e-22, 4.8604770e-06, 9.9239706e-08, 2.0476219e-16,\n",
              "       4.4385372e-34, 1.2066972e-21], dtype=float32)"
            ]
          },
          "metadata": {
            "tags": []
          },
          "execution_count": 25
        }
      ]
    },
    {
      "metadata": {
        "id": "3cdBW0tlTfuq",
        "colab_type": "code",
        "outputId": "38b7d0c0-4c8f-4542-8bdc-57669708ea01",
        "colab": {
          "base_uri": "https://localhost:8080/",
          "height": 374
        }
      },
      "cell_type": "code",
      "source": [
        "for i in range(0, len(siteler_pred)):\n",
        "  print(str(i) + \". \" + siteler_generator.filenames[i] + \"- Pred: \" + str(np.argmax(siteler_pred[i])) + \": \" \n",
        "        + list(siteler_generator.class_indices.keys())[list(siteler_generator.class_indices.values()).index(np.argmax(siteler_pred[i]))])"
      ],
      "execution_count": 0,
      "outputs": [
        {
          "output_type": "stream",
          "text": [
            "0. Industrial/armada.jpg- Pred: 3: Industrial\n",
            "1. Industrial/asti.jpg- Pred: 3: Industrial\n",
            "2. Industrial/cepa.jpg- Pred: 5: PermanentCrop\n",
            "3. Industrial/teknokent.jpg- Pred: 3: Industrial\n",
            "4. Industrial/ulus.jpg- Pred: 4: Residential\n",
            "5. Industrial/yurtlar.jpg- Pred: 2: HerbaceousVegetation\n",
            "6. Residential/img0_0.jpg- Pred: 2: HerbaceousVegetation\n",
            "7. Residential/img0_128.jpg- Pred: 2: HerbaceousVegetation\n",
            "8. Residential/img0_192.jpg- Pred: 5: PermanentCrop\n",
            "9. Residential/img0_256.jpg- Pred: 2: HerbaceousVegetation\n",
            "10. Residential/img0_64.jpg- Pred: 2: HerbaceousVegetation\n",
            "11. Residential/img128_0.jpg- Pred: 2: HerbaceousVegetation\n",
            "12. Residential/img128_128.jpg- Pred: 3: Industrial\n",
            "13. Residential/img128_192.jpg- Pred: 2: HerbaceousVegetation\n",
            "14. Residential/img128_256.jpg- Pred: 3: Industrial\n",
            "15. Residential/img128_64.jpg- Pred: 2: HerbaceousVegetation\n",
            "16. Residential/img64_0.jpg- Pred: 2: HerbaceousVegetation\n",
            "17. Residential/img64_128.jpg- Pred: 4: Residential\n",
            "18. Residential/img64_192.jpg- Pred: 4: Residential\n",
            "19. Residential/img64_256.jpg- Pred: 2: HerbaceousVegetation\n",
            "20. Residential/img64_64.jpg- Pred: 2: HerbaceousVegetation\n"
          ],
          "name": "stdout"
        }
      ]
    },
    {
      "metadata": {
        "id": "1LaHMMqKUTaI",
        "colab_type": "code",
        "colab": {}
      },
      "cell_type": "code",
      "source": [
        ""
      ],
      "execution_count": 0,
      "outputs": []
    }
  ]
}